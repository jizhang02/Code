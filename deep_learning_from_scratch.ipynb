{
 "cells": [
  {
   "cell_type": "markdown",
   "metadata": {},
   "source": [
    "# Deep learning from scratch\n",
    "author: Jing Zhang    \n",
    "e-mail: zhangjingnm@hotmail.com    \n",
    "date: 2024-08    \n",
    "reference: https://github.com/oreilly-japan/deep-learning-from-scratch"
   ]
  },
  {
   "cell_type": "markdown",
   "metadata": {},
   "source": [
    "## Perceptron"
   ]
  },
  {
   "cell_type": "markdown",
   "metadata": {},
   "source": [
    "### What is a perceptron\n",
    "\n",
    "![A perceptron](./figures/dlscratch_perceptron.png)    \n",
    "$\n",
    "y = \n",
    "\\begin{cases} \n",
    "0 &  (w_1 x_1 + w_2 x_2 \\leq \\theta), \\\\\n",
    "1 &  (w_1 x_1 + w_2 x_2 > \\theta).\n",
    "\\end{cases}\n",
    "$\n",
    "$x$ is input signal, $y$ is output signal, $w$ is weight, it decides the importance of input signal $x$, $\\theta$ is threshold.    \n",
    "Rewrite into:    \n",
    "$\n",
    "y = \n",
    "\\begin{cases} \n",
    "0 & (b+ w_1 x_1 + w_2 x_2 \\leq 0), \\\\\n",
    "1 & (b+ w_1 x_1 + w_2 x_2 > 0).\n",
    "\\end{cases}\n",
    "$\n",
    "$b$ is called bias, the value of $b$ decides the neuron is activated easily or not.\n",
    "### Simple logic circuit\n",
    "\n",
    "![AND gate](./figures/dlscratch_andgate.png) ![NOTAND gate](./figures/dlscratch_notandgate.png) ![OR gate](./figures/dlscratch_orgate.png) ![XOR gate](./figures/dlscratch_xorgate.png)"
   ]
  },
  {
   "cell_type": "code",
   "execution_count": 6,
   "metadata": {},
   "outputs": [
    {
     "name": "stdout",
     "output_type": "stream",
     "text": [
      "(x1,x2) -> y\n",
      "AND gate\n",
      "(0, 0) -> 0\n",
      "(1, 0) -> 0\n",
      "(0, 1) -> 0\n",
      "(1, 1) -> 1\n"
     ]
    }
   ],
   "source": [
    "# AND gate\n",
    "import numpy as np\n",
    "\n",
    "def AND(x1, x2):\n",
    "    x = np.array([x1, x2])\n",
    "    w = np.array([0.5, 0.5])\n",
    "    b = -0.7\n",
    "    tmp = np.sum(w*x) + b\n",
    "    if tmp <= 0:\n",
    "        return 0\n",
    "    else:\n",
    "        return 1\n",
    "\n",
    "\n",
    "print('(x1,x2) -> y\\nAND gate')\n",
    "for xs in [(0, 0), (1, 0), (0, 1), (1, 1)]:\n",
    "    y = AND(xs[0], xs[1])\n",
    "    print(str(xs) + \" -> \" + str(y))"
   ]
  },
  {
   "cell_type": "code",
   "execution_count": 8,
   "metadata": {},
   "outputs": [
    {
     "name": "stdout",
     "output_type": "stream",
     "text": [
      "(x1,x2) -> y\n",
      "NOTAND gate\n",
      "(0, 0) -> 1\n",
      "(1, 0) -> 1\n",
      "(0, 1) -> 1\n",
      "(1, 1) -> 0\n"
     ]
    }
   ],
   "source": [
    "# NOTAND gate\n",
    "import numpy as np\n",
    "\n",
    "def NAND(x1, x2):\n",
    "    x = np.array([x1, x2])\n",
    "    w = np.array([-0.5, -0.5])\n",
    "    b = 0.7\n",
    "    tmp = np.sum(w*x) + b\n",
    "    if tmp <= 0:\n",
    "        return 0\n",
    "    else:\n",
    "        return 1\n",
    "\n",
    "print('(x1,x2) -> y\\nNOTAND gate')\n",
    "for xs in [(0, 0), (1, 0), (0, 1), (1, 1)]:\n",
    "    y = NAND(xs[0], xs[1])\n",
    "    print(str(xs) + \" -> \" + str(y))"
   ]
  },
  {
   "cell_type": "markdown",
   "metadata": {},
   "source": [
    "Single linear    \n",
    "![OR gate](./figures/dlscratch_orgatecor.png)    \n",
    "A **linear** line can separate $\\triangle$ and $\\bigcirc$ in OR gate"
   ]
  },
  {
   "cell_type": "code",
   "execution_count": 10,
   "metadata": {},
   "outputs": [
    {
     "name": "stdout",
     "output_type": "stream",
     "text": [
      "(x1,x2) -> y\n",
      "OR gate\n",
      "(0, 0) -> 0\n",
      "(1, 0) -> 1\n",
      "(0, 1) -> 1\n",
      "(1, 1) -> 1\n"
     ]
    }
   ],
   "source": [
    "# OR gate\n",
    "import numpy as np\n",
    "\n",
    "def OR(x1, x2):\n",
    "    x = np.array([x1, x2])\n",
    "    w = np.array([1, 1])\n",
    "    b = -0.5\n",
    "    tmp = np.sum(w*x) + b\n",
    "    if tmp <= 0:\n",
    "        return 0\n",
    "    else:\n",
    "        return 1\n",
    "\n",
    "print('(x1,x2) -> y\\nOR gate')\n",
    "for xs in [(0, 0), (1, 0), (0, 1), (1, 1)]:\n",
    "    y = OR(xs[0], xs[1])\n",
    "    print(str(xs) + \" -> \" + str(y))"
   ]
  },
  {
   "cell_type": "markdown",
   "metadata": {},
   "source": [
    "### Multiple layer perceptron\n",
    "\n",
    "![OR gate](./figures/dlscratch_xorgatecor.png) ![XOR gate](./figures/dlscratch_xorgateco.png) ![Multi-layer perceptrion](./figures/dlscratch_perceptronmulti.png)    \n",
    "A **non-linear** line can separate $\\triangle$ and $\\bigcirc$ in XOR gate    \n"
   ]
  },
  {
   "cell_type": "code",
   "execution_count": 11,
   "metadata": {},
   "outputs": [
    {
     "name": "stdout",
     "output_type": "stream",
     "text": [
      "(x1,x2) -> y\n",
      "XOR gate\n",
      "(0, 0) -> 0\n",
      "(1, 0) -> 1\n",
      "(0, 1) -> 1\n",
      "(1, 1) -> 0\n"
     ]
    }
   ],
   "source": [
    "# XOR gate\n",
    "def XOR(x1, x2):\n",
    "    # overlay different perceptrons like lego\n",
    "    s1 = NAND(x1, x2)\n",
    "    s2 = OR(x1, x2)\n",
    "    y = AND(s1, s2)\n",
    "    return y\n",
    "\n",
    "print('(x1,x2) -> y\\nXOR gate')\n",
    "for xs in [(0, 0), (1, 0), (0, 1), (1, 1)]:\n",
    "    y = XOR(xs[0], xs[1])\n",
    "    print(str(xs) + \" -> \" + str(y))"
   ]
  },
  {
   "cell_type": "markdown",
   "metadata": {},
   "source": [
    "## Neural networks"
   ]
  },
  {
   "cell_type": "markdown",
   "metadata": {},
   "source": [
    "### From perceptron to neural networks\n",
    "A first look at neural network diagram    \n",
    "![A neural network](./figures/dlscratch_nn.png)    \n",
    "Review a perceptron:    \n",
    "![A perceptron](./figures/dlscratch_perceptronbias.png) $\n",
    "y = \n",
    "\\begin{cases} \n",
    "0 & (b+ w_1 x_1 + w_2 x_2 \\leq 0), \\\\\n",
    "1 & (b+ w_1 x_1 + w_2 x_2 > 0).\n",
    "\\end{cases}\n",
    "$\n",
    "$b$ is called bias, the value of $b$ decides the neuron is activated easily or not.     \n",
    "Rewrite into: $y=h(b+w_1 x_1 + w_2 x_2)$ and $\n",
    "h(x) = \n",
    "\\begin{cases} \n",
    "0 & (x \\leq 0), \\\\\n",
    "1 & (x > 0).\n",
    "\\end{cases}\n",
    "$\n",
    "\n",
    "$h(x)$ is\n",
    " called **activation function**, to be specific, rewrite the function above as: $a=b+w_1 x_1 + w_2 x_2$ and $y=h(a)$, a diagram shows below:    \n",
    "![A perceptron](./figures/dlscratch_perceptronbiasact.png) \n",
    "\n",
    "\n"
   ]
  },
  {
   "cell_type": "markdown",
   "metadata": {},
   "source": [
    "### Activation functions\n",
    "#### Sigmoid function\n",
    "$$ h(x)=\\frac{1}{1+e^{-x}}  $$\n"
   ]
  },
  {
   "cell_type": "code",
   "execution_count": 15,
   "metadata": {},
   "outputs": [
    {
     "data": {
      "image/png": "[encoded data removed]",
      "text/plain": [
       "<Figure size 640x480 with 1 Axes>"
      ]
     },
     "metadata": {},
     "output_type": "display_data"
    }
   ],
   "source": [
    "# step function and sigmoid function\n",
    "import numpy as np\n",
    "import matplotlib.pylab as plt\n",
    "\n",
    "# sigmoid function is used in neural networks, for smooth change\n",
    "def sigmoid(x):\n",
    "    return 1 / (1 + np.exp(-x))\n",
    "\n",
    "# step function is used in perceptron, for rapid signal changes\n",
    "def step_function(x):\n",
    "    return np.array(x > 0, dtype=int)\n",
    "\n",
    "x = np.arange(-5.0, 5.0, 0.1)\n",
    "y1 = sigmoid(x)\n",
    "y2 = step_function(x)\n",
    "\n",
    "plt.plot(x, y1)\n",
    "plt.plot(x, y2, 'k--')\n",
    "plt.ylim(-0.1, 1.1) \n",
    "plt.title('step function (dashed line) and sigmoid function')\n",
    "plt.show()"
   ]
  },
  {
   "cell_type": "markdown",
   "metadata": {},
   "source": [
    "#### ReLU function\n",
    "$$\n",
    "h(x) = \n",
    "\\begin{cases} \n",
    "0 & (x \\leq 0), \\\\\n",
    "x & (x > 0).\n",
    "\\end{cases}\n",
    "$$"
   ]
  },
  {
   "cell_type": "code",
   "execution_count": 16,
   "metadata": {},
   "outputs": [
    {
     "data": {
      "image/png": "[encoded data removed]",
      "text/plain": [
       "<Figure size 640x480 with 1 Axes>"
      ]
     },
     "metadata": {},
     "output_type": "display_data"
    }
   ],
   "source": [
    "# ReLU function\n",
    "import numpy as np\n",
    "import matplotlib.pylab as plt\n",
    "\n",
    "def relu(x):\n",
    "    return np.maximum(0, x)\n",
    "\n",
    "x = np.arange(-5.0, 5.0, 0.1)\n",
    "y = relu(x)\n",
    "plt.plot(x, y)\n",
    "plt.ylim(-1.0, 5.5)\n",
    "plt.title('ReLU function')\n",
    "plt.show()"
   ]
  },
  {
   "cell_type": "markdown",
   "metadata": {},
   "source": [
    "### Multidimensional arrays\n",
    "The number of columns of first array should be same as the the number of rows of second array.    \n",
    "For example: (3x2)*(2x4)=3x4"
   ]
  },
  {
   "cell_type": "code",
   "execution_count": 41,
   "metadata": {},
   "outputs": [
    {
     "name": "stdout",
     "output_type": "stream",
     "text": [
      "array A: [1 2 3 4] \n",
      "A.ndim: 1 A.shape: (4,) A.shape[0]: 4\n",
      "array B:\n",
      " [[1 2]\n",
      " [3 4]\n",
      " [5 6]]\n",
      "B.ndim: 2 B.shape: (3, 2) B.shape[0]: 3 B.shape[1]: 2\n",
      "\n",
      "Matrix dot product\n",
      " A.shape (2, 3) B.shape (3, 2) \n",
      "dot(A,B).shape (2, 2)\n",
      " np.dot(A,B)\n",
      " [[22 28]\n",
      " [49 64]] \n",
      "np.dot(B,A)\n",
      " [[ 9 12 15]\n",
      " [19 26 33]\n",
      " [29 40 51]] \n",
      "dot(B,A).shape (3, 3)\n"
     ]
    }
   ],
   "source": [
    "import numpy as np \n",
    "# one dimension array\n",
    "A = np.array([1, 2, 3, 4])\n",
    "print(f'array A: {A} \\nA.ndim: {A.ndim} A.shape: {A.shape} A.shape[0]: {A.shape[0]}')\n",
    "# two dimension array (matrix)\n",
    "B = np.array([[1,2], [3,4], [5,6]])\n",
    "print(f'array B:\\n {B}\\nB.ndim: {B.ndim} B.shape: {B.shape} B.shape[0]: {B.shape[0]} B.shape[1]: {B.shape[1]}\\n')\n",
    "\n",
    "# multiply or dot\n",
    "A = np.array([[1,2,3], [4,5,6]])\n",
    "B = np.array([[1,2], [3,4], [5,6]])\n",
    "print(f'Matrix dot product\\n A.shape {A.shape} B.shape {B.shape} \\ndot(A,B).shape {np.dot(A,B).shape}\\n \\\n",
    "np.dot(A,B)\\n {np.dot(A,B)} \\nnp.dot(B,A)\\n {np.dot(B,A)} \\ndot(B,A).shape {np.dot(B,A).shape}')"
   ]
  },
  {
   "cell_type": "markdown",
   "metadata": {},
   "source": [
    "Dot product of a neural networks    \n",
    "![dot product of a neural networks](./figures/dlscratch_nndot.png)    \n"
   ]
  },
  {
   "cell_type": "code",
   "execution_count": 43,
   "metadata": {},
   "outputs": [
    {
     "name": "stdout",
     "output_type": "stream",
     "text": [
      "[ 5 11 17]\n"
     ]
    }
   ],
   "source": [
    "# a one layer neural network\n",
    "X = np.array([1, 2]) # input elements\n",
    "W = np.array([[1, 3, 5], [2, 4, 6]]) # weights of each element\n",
    "Y = np.dot(X, W) # output\n",
    "print(Y)"
   ]
  },
  {
   "cell_type": "markdown",
   "metadata": {},
   "source": [
    "### A 3-layer neural networks\n",
    "\n",
    "![From input to 1st layer](./figures/dlscratch_nn3layer1.png)\n",
    "From input to 1st layer    \n",
    "![From 1st to 2nd layer](./figures/dlscratch_nn3layer2.png)\n",
    "From 1st to 2nd layer    \n",
    "![From 2nd to output layer](./figures/dlscratch_nn3layer3.png)\n",
    "From 2nd to output layer"
   ]
  },
  {
   "cell_type": "code",
   "execution_count": 2,
   "metadata": {},
   "outputs": [
    {
     "name": "stdout",
     "output_type": "stream",
     "text": [
      "[0.31682708 0.69627909]\n"
     ]
    }
   ],
   "source": [
    "import numpy as np\n",
    "\n",
    "def init_network():\n",
    "    network = {} # a dictionary including keys such as weights and bias\n",
    "    network['W1'] = np.array([[0.1, 0.3, 0.5], [0.2, 0.4, 0.6]])\n",
    "    network['b1'] = np.array([0.1, 0.2, 0.3])\n",
    "    network['W2'] = np.array([[0.1, 0.4], [0.2, 0.5], [0.3, 0.6]])\n",
    "    network['b2'] = np.array([0.1, 0.2])\n",
    "    network['W3'] = np.array([[0.1, 0.3], [0.2, 0.4]])\n",
    "    network['b3'] = np.array([0.1, 0.2])\n",
    "    return network\n",
    "\n",
    "def identity_function(x):\n",
    "    # used for regression\n",
    "    return x\n",
    "\n",
    "def sigmoid(x):\n",
    "    # used for binary classification\n",
    "    return 1 / (1 + np.exp(-x))\n",
    "\n",
    "def forward(network, x):\n",
    "    # x is input elements\n",
    "    W1, W2, W3 = network['W1'], network['W2'], network['W3']\n",
    "    b1, b2, b3 = network['b1'], network['b2'], network['b3']\n",
    "    a1 = np.dot(x, W1) + b1\n",
    "    z1 = sigmoid(a1)\n",
    "    a2 = np.dot(z1, W2) + b2\n",
    "    z2 = sigmoid(a2)\n",
    "    a3 = np.dot(z2, W3) + b3\n",
    "    y = identity_function(a3)\n",
    "    return y\n",
    "\n",
    "network = init_network()\n",
    "x = np.array([1.0, 0.5])\n",
    "y = forward(network, x)\n",
    "print(y) # [ 0.31682708 0.69627909]"
   ]
  },
  {
   "cell_type": "markdown",
   "metadata": {},
   "source": [
    "### Output layer\n",
    "\n",
    "Regression problem uses idendity function;    \n",
    "Classification problem uses softmax function, output becomes probability, sum is 1. Because softmax funciton doesn't change output distribution, sometimes softmax function can be neglected in classification problem so that less computation time and memory.\n",
    "$$y_k = \\frac{e^{a_k}}{\\sum_{i=1}^n e^{a_i}}$$\n",
    "\n",
    "The number of output layer depends on tasks, for instance, number classification has 10 classes, gender classification has 2 classes in general (here we don't consider LBGTQ~)"
   ]
  },
  {
   "cell_type": "code",
   "execution_count": 16,
   "metadata": {},
   "outputs": [
    {
     "name": "stdout",
     "output_type": "stream",
     "text": [
      "array a [3.00e-01 2.90e+00 9.01e+02]\n",
      "exp of a [ 1.34985881 18.17414537         inf]\n",
      "sum_exp_a inf\n",
      "y [ 0.  0. nan]\n",
      "softmax(a) after overflow preventing [0. 0. 1.]\n"
     ]
    },
    {
     "name": "stderr",
     "output_type": "stream",
     "text": [
      "C:\\Users\\zhang\\AppData\\Local\\Temp\\ipykernel_31224\\3256760056.py:6: RuntimeWarning: overflow encountered in exp\n",
      "  exp_a = np.exp(a)\n",
      "C:\\Users\\zhang\\AppData\\Local\\Temp\\ipykernel_31224\\3256760056.py:10: RuntimeWarning: invalid value encountered in divide\n",
      "  y = exp_a / sum_exp_a\n"
     ]
    }
   ],
   "source": [
    "# softmax function\n",
    "import numpy as np\n",
    "\n",
    "a = np.array([0.3, 2.9, 901.0])\n",
    "print(f'array a {a}')\n",
    "exp_a = np.exp(a)\n",
    "print(f'exp of a {exp_a}')\n",
    "sum_exp_a = np.sum(exp_a)\n",
    "print(f'sum_exp_a {sum_exp_a}')\n",
    "y = exp_a / sum_exp_a\n",
    "print(f'y {y}')\n",
    "\n",
    "def softmax(a):\n",
    "    c = np.max(a)\n",
    "    exp_a = np.exp(a - c) # avoid overflow\n",
    "    sum_exp_a = np.sum(exp_a)\n",
    "    y = exp_a / sum_exp_a\n",
    "    return y\n",
    "print(f'softmax(a) after overflow preventing {softmax(a)}')"
   ]
  },
  {
   "cell_type": "markdown",
   "metadata": {},
   "source": [
    "### Handwritten digital number recognition"
   ]
  },
  {
   "cell_type": "code",
   "execution_count": 36,
   "metadata": {},
   "outputs": [
    {
     "name": "stdout",
     "output_type": "stream",
     "text": [
      "x_train.shape (60000, 784) y_train.shape (60000,) x_test.shape (10000, 784) y_test.shape (10000,)\n",
      "img.shape (784,) label 5\n",
      "img.shape after reshape (28, 28)\n"
     ]
    },
    {
     "data": {
      "image/png": "[encoded data removed]",
      "text/plain": [
       "<Figure size 100x100 with 1 Axes>"
      ]
     },
     "metadata": {},
     "output_type": "display_data"
    }
   ],
   "source": [
    "import sys, os\n",
    "sys.path.append(os.pardir)  # Settings for importing files from a parent directory\n",
    "import numpy as np\n",
    "from dataset.mnist import load_mnist\n",
    "\n",
    "# load dataset\n",
    "(x_train, y_train), (x_test, y_test) = load_mnist(flatten=True, normalize=False, one_hot_label=False)\n",
    "\n",
    "# show dataset info\n",
    "print(f'x_train.shape {x_train.shape} y_train.shape {y_train.shape} x_test.shape {x_test.shape} y_test.shape {y_test.shape}') \n",
    "\n",
    "# show one image and label\n",
    "img = x_train[0]\n",
    "label = y_train[0]\n",
    "print(f'img.shape {img.shape} label {label}')  # (784,) 5\n",
    "\n",
    "img = img.reshape(28, 28)  \n",
    "print(f'img.shape after reshape {img.shape}')  # (28, 28)\n",
    "\n",
    "plt.figure(figsize=(1, 1)) # inch\n",
    "plt.imshow(img, cmap='gray')\n",
    "plt.title(f'Label: {label}')\n",
    "plt.axis('off') \n",
    "plt.show()"
   ]
  },
  {
   "cell_type": "code",
   "execution_count": 37,
   "metadata": {},
   "outputs": [
    {
     "name": "stdout",
     "output_type": "stream",
     "text": [
      "Accuracy:0.9352\n"
     ]
    }
   ],
   "source": [
    "import sys, os\n",
    "sys.path.append(os.pardir) # Settings for importing files from a parent directory\n",
    "import numpy as np\n",
    "import pickle # used to save object into a file, or vice versa\n",
    "from dataset.mnist import load_mnist\n",
    "\n",
    "def sigmoid(x):\n",
    "    return 1 / (1 + np.exp(-x))\n",
    "\n",
    "def softmax(a):\n",
    "    c = np.max(a)\n",
    "    exp_a = np.exp(a - c) # avoid overflow\n",
    "    sum_exp_a = np.sum(exp_a)\n",
    "    y = exp_a / sum_exp_a\n",
    "    return y\n",
    "\n",
    "def get_data():\n",
    "    (x_train, t_train), (x_test, t_test) = load_mnist(normalize=True, flatten=True, one_hot_label=False)\n",
    "    return x_test, t_test\n",
    "\n",
    "\n",
    "def init_network():\n",
    "    with open(\"dataset/sample_weight.pkl\", 'rb') as f:\n",
    "        network = pickle.load(f)\n",
    "    return network\n",
    "\n",
    "\n",
    "def predict(network, x):\n",
    "    W1, W2, W3 = network['W1'], network['W2'], network['W3']\n",
    "    b1, b2, b3 = network['b1'], network['b2'], network['b3']\n",
    "\n",
    "    a1 = np.dot(x, W1) + b1\n",
    "    z1 = sigmoid(a1)\n",
    "    a2 = np.dot(z1, W2) + b2\n",
    "    z2 = sigmoid(a2)\n",
    "    a3 = np.dot(z2, W3) + b3\n",
    "    y = softmax(a3)\n",
    "\n",
    "    return y\n",
    "\n",
    "\n",
    "x, t = get_data()\n",
    "network = init_network()\n",
    "accuracy_cnt = 0\n",
    "for i in range(len(x)):\n",
    "    y = predict(network, x[i])\n",
    "    p= np.argmax(y) # Get the index of the most probable element\n",
    "    if p == t[i]:\n",
    "        accuracy_cnt += 1\n",
    "\n",
    "print(\"Accuracy:\" + str(float(accuracy_cnt) / len(x)))"
   ]
  },
  {
   "cell_type": "code",
   "execution_count": 41,
   "metadata": {},
   "outputs": [
    {
     "name": "stdout",
     "output_type": "stream",
     "text": [
      "X (784,) -> W1 (784, 50) -> W2 (50, 100) -> W3 (100, 10) -> y (10,)\n"
     ]
    }
   ],
   "source": [
    "# shape check\n",
    "W1, W2, W3 = network['W1'], network['W2'], network['W3']\n",
    "print(f'X {x[0].shape} -> W1 {W1.shape} -> W2 {W2.shape} -> W3 {W3.shape} -> y {y.shape}')"
   ]
  },
  {
   "cell_type": "markdown",
   "metadata": {},
   "source": [
    "Batch processing"
   ]
  },
  {
   "cell_type": "code",
   "execution_count": 43,
   "metadata": {},
   "outputs": [
    {
     "name": "stdout",
     "output_type": "stream",
     "text": [
      "Accuracy:0.9352\n"
     ]
    }
   ],
   "source": [
    "import sys, os\n",
    "sys.path.append(os.pardir)  # Settings for importing files from a parent directory\n",
    "import numpy as np\n",
    "import pickle\n",
    "from dataset.mnist import load_mnist\n",
    "\n",
    "\n",
    "def get_data():\n",
    "    (x_train, t_train), (x_test, t_test) = load_mnist(normalize=True, flatten=True, one_hot_label=False)\n",
    "    return x_test, t_test\n",
    "\n",
    "\n",
    "def init_network():\n",
    "    with open(\"dataset/sample_weight.pkl\", 'rb') as f:\n",
    "        network = pickle.load(f)\n",
    "    return network\n",
    "\n",
    "\n",
    "def predict(network, x):\n",
    "    w1, w2, w3 = network['W1'], network['W2'], network['W3']\n",
    "    b1, b2, b3 = network['b1'], network['b2'], network['b3']\n",
    "\n",
    "    a1 = np.dot(x, w1) + b1\n",
    "    z1 = sigmoid(a1)\n",
    "    a2 = np.dot(z1, w2) + b2\n",
    "    z2 = sigmoid(a2)\n",
    "    a3 = np.dot(z2, w3) + b3\n",
    "    y = softmax(a3)\n",
    "\n",
    "    return y\n",
    "\n",
    "\n",
    "x, t = get_data()\n",
    "network = init_network()\n",
    "\n",
    "batch_size = 100 \n",
    "accuracy_cnt = 0\n",
    "\n",
    "for i in range(0, len(x), batch_size):\n",
    "    x_batch = x[i:i+batch_size]\n",
    "    y_batch = predict(network, x_batch)\n",
    "    p = np.argmax(y_batch, axis=1) # axis = 0 is column, 1 is row, here y_batch (100, 10), means take the max value in each row\n",
    "    accuracy_cnt += np.sum(p == t[i:i+batch_size]) # is same, return true, or return false, then sum the number of trues\n",
    "\n",
    "print(\"Accuracy:\" + str(float(accuracy_cnt) / len(x)))\n"
   ]
  },
  {
   "cell_type": "code",
   "execution_count": 46,
   "metadata": {},
   "outputs": [
    {
     "name": "stdout",
     "output_type": "stream",
     "text": [
      "x_batch (100, 784) -> W1 (784, 50) -> W2 (50, 100) -> W3 (100, 10) -> y_batch (100, 10)\n"
     ]
    }
   ],
   "source": [
    "# shape check\n",
    "W1, W2, W3 = network['W1'], network['W2'], network['W3']\n",
    "print(f'x_batch {x_batch.shape} -> W1 {W1.shape} -> W2 {W2.shape} -> W3 {W3.shape} -> y_batch {y_batch.shape}')"
   ]
  },
  {
   "cell_type": "markdown",
   "metadata": {},
   "source": [
    "## Learning neural networks\n",
    "The \"learning\" mentioned here refers to the process of automatically obtaining the optimal weight parameters from the training data.\n",
    "![From human to machine learning to deep learning](./figures/dlscratch_humanmldl.png)"
   ]
  },
  {
   "cell_type": "markdown",
   "metadata": {},
   "source": [
    "### Learn from data\n",
    "The neural networks learn from **training data**, to test the **generalization** of model, model test on **test data**, model can hav **over fitting** state if the model behave good only on specific dataset."
   ]
  },
  {
   "cell_type": "markdown",
   "metadata": {},
   "source": [
    "### Loss functions\n",
    "**Loss function** is a index that shows how bad/good a model's performance is.\n",
    "For example, **mean squared error**:\n",
    "$$ E = \\sum_k(y_k-t_k)^2 $$\n",
    "$y$ is output of model, $t$ is labeled data, $k$ is dimension, for instance, $k=10$ in digital number    \n",
    "**Cross entropy error** is defined as:\n",
    "$$E=-\\sum_k t_k \\log y_k$$\n",
    "mean that the higher prediction, the lower the cross entropy error."
   ]
  },
  {
   "cell_type": "markdown",
   "metadata": {},
   "source": [
    "Why need loss funcion    \n",
    "* The aim is to find best weights of neural networks automatically.\n",
    "* The recognition accuracy has little response to small parameter changes. Even if it does, its value changes discontinuously and suddenly.\n",
    "* Instead of accuracy, loss changes continuesly.\n",
    "* Similarly, activation function like step function can not make neural network learn, because most of time it's 0.\n",
    "* Instead, sigmoid function is smooth, and the gradient is not 0, which is good for model to learn."
   ]
  },
  {
   "cell_type": "code",
   "execution_count": 14,
   "metadata": {},
   "outputs": [
    {
     "name": "stdout",
     "output_type": "stream",
     "text": [
      "mse error 0.195 of t [0, 0, 1, 0, 0, 0, 0, 0, 0, 0] and y [0.1, 0.05, 0.6, 0.0, 0.05, 0.1, 0.0, 0.1, 0.0, 0.0]\n",
      "mse error 1.195 of t [0, 0, 1, 0, 0, 0, 0, 0, 0, 0] and y [0.1, 0.05, 0.1, 0.0, 0.05, 0.1, 0.0, 0.6, 0.0, 0.0]\n",
      "\n",
      "cel loss: 0.511 of t [0, 0, 1, 0, 0, 0, 0, 0, 0, 0] and y [0.1, 0.05, 0.6, 0.0, 0.05, 0.1, 0.0, 0.1, 0.0, 0.0]\n",
      "cel loss: 2.303 of t [0, 0, 1, 0, 0, 0, 0, 0, 0, 0] and y [0.1, 0.05, 0.1, 0.0, 0.05, 0.1, 0.0, 0.6, 0.0, 0.0]\n"
     ]
    }
   ],
   "source": [
    "# mean squared error for one number\n",
    "import numpy as np\n",
    "\n",
    "def mean_squared_error(y, t):\n",
    "    return np.sum((y-t)**2)\n",
    "\n",
    "t = [0, 0, 1, 0, 0, 0, 0, 0, 0, 0] # one hot label of 2\n",
    "y = [0.1, 0.05, 0.6, 0.0, 0.05, 0.1, 0.0, 0.1, 0.0, 0.0] # predict probability\n",
    "error = mean_squared_error(np.array(y), np.array(t)) # error or loss\n",
    "print(f'mse error {error:.3f} of t {t} and y {y}')\n",
    "y = [0.1, 0.05, 0.1, 0.0, 0.05, 0.1, 0.0, 0.6, 0.0, 0.0]\n",
    "error = mean_squared_error(np.array(y), np.array(t))\n",
    "print(f'mse error {error:.3f} of t {t} and y {y}')\n",
    "print()\n",
    "# cross entropy loss for one number\n",
    "def cross_entropy_error(y, t):\n",
    "    delta = 1e-7\n",
    "    return -np.sum(t * np.log(y + delta))\n",
    "\n",
    "t = [0, 0, 1, 0, 0, 0, 0, 0, 0, 0]\n",
    "y = [0.1, 0.05, 0.6, 0.0, 0.05, 0.1, 0.0, 0.1, 0.0, 0.0]\n",
    "error_cel = cross_entropy_error(np.array(y), np.array(t))\n",
    "print(f'cel loss: {error_cel:.3f} of t {t} and y {y}')\n",
    "y = [0.1, 0.05, 0.1, 0.0, 0.05, 0.1, 0.0, 0.6, 0.0, 0.0]\n",
    "error_cel = cross_entropy_error(np.array(y), np.array(t))\n",
    "print(f'cel loss: {error_cel:.3f} of t {t} and y {y}')\n"
   ]
  },
  {
   "cell_type": "markdown",
   "metadata": {},
   "source": [
    "batch based loss\n",
    "$$E=-\\frac{1}{N}\\sum_n\\sum_k t_{nk} \\log y_{nk}$$\n",
    "$N$ is the batch size"
   ]
  },
  {
   "cell_type": "code",
   "execution_count": 29,
   "metadata": {},
   "outputs": [
    {
     "name": "stdout",
     "output_type": "stream",
     "text": [
      "x_train.shape (60000, 784) t_train.shape (60000, 10)\n",
      "batch mask [45175 41462 47670 47477  3560 55597 23771  6682 47686 41518]\n",
      "\n",
      "np.arange(batch_size) [0 1 2 3 4] \n",
      "\t\t    t [2, 7, 0, 9, 4]\n",
      "\n",
      "coordinates ['y[0,2]', 'y[1,7]', 'y[2,0]', 'y[3,9]', 'y[4,4]']\n",
      "y = np.array shape (5, 10) \n",
      "[[0.1  0.05 0.6  0.   0.05 0.1  0.   0.1  0.   0.  ]\n",
      " [0.1  0.05 0.   0.   0.05 0.1  0.   0.1  0.6  0.  ]\n",
      " [0.1  0.05 0.1  0.   0.05 0.1  0.   0.6  0.   0.  ]\n",
      " [0.1  0.05 0.   0.   0.05 0.1  0.6  0.1  0.   0.  ]\n",
      " [0.1  0.05 0.1  0.   0.55 0.1  0.   0.1  0.   0.  ]]\n",
      "\n",
      "y[np.arange(batch_size),t] [0.6  0.1  0.1  0.   0.55]\n"
     ]
    }
   ],
   "source": [
    "import sys, os\n",
    "sys.path.append(os.pardir)\n",
    "import numpy as np\n",
    "from dataset.mnist import load_mnist\n",
    "\n",
    "(x_train, t_train), (x_test, t_test) = \\\n",
    "load_mnist(normalize=True, one_hot_label=True)\n",
    "print(f'x_train.shape {x_train.shape} t_train.shape {t_train.shape}') # (60000, 784) (60000, 10)\n",
    "\n",
    "train_size = x_train.shape[0]\n",
    "batch_size = 10\n",
    "batch_mask = np.random.choice(train_size, batch_size) # random pick 10 numbers in training set\n",
    "print(f'batch mask {batch_mask}')\n",
    "x_batch = x_train[batch_mask]\n",
    "t_batch = t_train[batch_mask]\n",
    "\n",
    "# cross entropy error for batch number, one-hot label\n",
    "def cross_entropy_error(y, t):\n",
    "    if y.ndim == 1:\n",
    "        t = t.reshape(1, t.size)\n",
    "        y = y.reshape(1, y.size)\n",
    "    batch_size = y.shape[0]\n",
    "    return -np.sum(t * np.log(y + 1e-7)) / batch_size\n",
    "\n",
    "# cross entropy error for batch number, non one-hot label\n",
    "def cross_entropy_error(y, t):\n",
    "    if y.ndim == 1:\n",
    "        t = t.reshape(1, t.size)\n",
    "        y = y.reshape(1, y.size)\n",
    "    batch_size = y.shape[0]\n",
    "    return -np.sum(np.log(y[np.arange(batch_size), t] + 1e-7)) / batch_size\n",
    "\n",
    "# explain for np.log(y[np.arange(batch_size), t] + 1e-7)\n",
    "batch_size = 5\n",
    "np.arange(batch_size)\n",
    "\n",
    "# t ensures that only correct class probability values ​​are used in the calculation.\n",
    "t = [2,7,0,9,4] # non one-hot label\n",
    "y = np.array([\n",
    "    [0.1, 0.05, 0.6, 0.0, 0.05, 0.1, 0.0, 0.1, 0.0, 0.0],\n",
    "    [0.1, 0.05, 0.0, 0.0, 0.05, 0.1, 0.0, 0.1, 0.6, 0.0],\n",
    "    [0.1, 0.05, 0.1, 0.0, 0.05, 0.1, 0.0, 0.6, 0.0, 0.0],\n",
    "    [0.1, 0.05, 0.0, 0.0, 0.05, 0.1, 0.6, 0.1, 0.0, 0.0],\n",
    "    [0.1, 0.05, 0.1, 0.0, 0.55, 0.1, 0.0, 0.1, 0.0, 0.0]\n",
    "])  # predictions from model\n",
    "\n",
    "print(f'\\nnp.arange(batch_size) {np.arange(batch_size)} \\n\\t\\t    t {t}')\n",
    "\n",
    "coordinates = [f'y[{i},{t[i]}]' for i in range(batch_size)]\n",
    "print(f'\\ncoordinates {coordinates}')\n",
    "\n",
    "print(f'y = np.array shape {y.shape} \\n{y}')\n",
    "print(f'\\ny[np.arange(batch_size),t] {y[np.arange(batch_size), t]}')"
   ]
  },
  {
   "cell_type": "markdown",
   "metadata": {},
   "source": [
    "### Numerical differentiation"
   ]
  },
  {
   "cell_type": "markdown",
   "metadata": {},
   "source": [
    "### Gradient"
   ]
  },
  {
   "cell_type": "markdown",
   "metadata": {},
   "source": [
    "## Back propagation"
   ]
  },
  {
   "cell_type": "markdown",
   "metadata": {},
   "source": [
    "## Tricks for learning"
   ]
  },
  {
   "cell_type": "markdown",
   "metadata": {},
   "source": [
    "## CNN"
   ]
  },
  {
   "cell_type": "markdown",
   "metadata": {},
   "source": [
    "## Deep learning"
   ]
  },
  {
   "cell_type": "code",
   "execution_count": null,
   "metadata": {},
   "outputs": [],
   "source": []
  }
 ],
 "metadata": {
  "kernelspec": {
   "display_name": "Python 3.11.6 ('base')",
   "language": "python",
   "name": "python3"
  },
  "language_info": {
   "codemirror_mode": {
    "name": "ipython",
    "version": 3
   },
   "file_extension": ".py",
   "mimetype": "text/x-python",
   "name": "python",
   "nbconvert_exporter": "python",
   "pygments_lexer": "ipython3",
   "version": "3.11.5"
  },
  "vscode": {
   "interpreter": {
    "hash": "d0af3871f74fa798a0a222812f3db7ca3ddb43c51379edde28baf2323a73ac20"
   }
  }
 },
 "nbformat": 4,
 "nbformat_minor": 2
}
