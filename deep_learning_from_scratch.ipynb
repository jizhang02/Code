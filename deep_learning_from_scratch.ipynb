{
 "cells": [
  {
   "cell_type": "markdown",
   "metadata": {},
   "source": [
    "# Deep learning from scratch\n",
    "author: Jing Zhang    \n",
    "e-mail: zhangjingnm@hotmail.com    \n",
    "date: 2024-08    \n",
    "reference: https://github.com/oreilly-japan/deep-learning-from-scratch"
   ]
  },
  {
   "cell_type": "markdown",
   "metadata": {},
   "source": [
    "## Perceptron"
   ]
  },
  {
   "cell_type": "markdown",
   "metadata": {},
   "source": [
    "### What is a perceptron\n",
    "\n",
    "![A perceptron](./figures/dlscratch_perceptron.png)    \n",
    "$\n",
    "y = \n",
    "\\begin{cases} \n",
    "0 &  (w_1 x_1 + w_2 x_2 \\leq \\theta), \\\\\n",
    "1 &  (w_1 x_1 + w_2 x_2 > \\theta).\n",
    "\\end{cases}\n",
    "$\n",
    "$x$ is input signal, $y$ is output signal, $w$ is weight, it decides the importance of input signal $x$, $\\theta$ is threshold.    \n",
    "Rewrite into:    \n",
    "$\n",
    "y = \n",
    "\\begin{cases} \n",
    "0 & (b+ w_1 x_1 + w_2 x_2 \\leq 0), \\\\\n",
    "1 & (b+ w_1 x_1 + w_2 x_2 > 0).\n",
    "\\end{cases}\n",
    "$\n",
    "$b$ is called bias, the value of $b$ decides the neuron is activated easily or not.\n",
    "### Simple logic circuit\n",
    "\n",
    "![AND gate](./figures/dlscratch_andgate.png) ![NOTAND gate](./figures/dlscratch_notandgate.png) ![OR gate](./figures/dlscratch_orgate.png) ![XOR gate](./figures/dlscratch_xorgate.png)"
   ]
  },
  {
   "cell_type": "code",
   "execution_count": 6,
   "metadata": {},
   "outputs": [
    {
     "name": "stdout",
     "output_type": "stream",
     "text": [
      "(x1,x2) -> y\n",
      "AND gate\n",
      "(0, 0) -> 0\n",
      "(1, 0) -> 0\n",
      "(0, 1) -> 0\n",
      "(1, 1) -> 1\n"
     ]
    }
   ],
   "source": [
    "# AND gate\n",
    "import numpy as np\n",
    "\n",
    "def AND(x1, x2):\n",
    "    x = np.array([x1, x2])\n",
    "    w = np.array([0.5, 0.5])\n",
    "    b = -0.7\n",
    "    tmp = np.sum(w*x) + b\n",
    "    if tmp <= 0:\n",
    "        return 0\n",
    "    else:\n",
    "        return 1\n",
    "\n",
    "\n",
    "print('(x1,x2) -> y\\nAND gate')\n",
    "for xs in [(0, 0), (1, 0), (0, 1), (1, 1)]:\n",
    "    y = AND(xs[0], xs[1])\n",
    "    print(str(xs) + \" -> \" + str(y))"
   ]
  },
  {
   "cell_type": "code",
   "execution_count": 8,
   "metadata": {},
   "outputs": [
    {
     "name": "stdout",
     "output_type": "stream",
     "text": [
      "(x1,x2) -> y\n",
      "NOTAND gate\n",
      "(0, 0) -> 1\n",
      "(1, 0) -> 1\n",
      "(0, 1) -> 1\n",
      "(1, 1) -> 0\n"
     ]
    }
   ],
   "source": [
    "# NOTAND gate\n",
    "import numpy as np\n",
    "\n",
    "def NAND(x1, x2):\n",
    "    x = np.array([x1, x2])\n",
    "    w = np.array([-0.5, -0.5])\n",
    "    b = 0.7\n",
    "    tmp = np.sum(w*x) + b\n",
    "    if tmp <= 0:\n",
    "        return 0\n",
    "    else:\n",
    "        return 1\n",
    "\n",
    "print('(x1,x2) -> y\\nNOTAND gate')\n",
    "for xs in [(0, 0), (1, 0), (0, 1), (1, 1)]:\n",
    "    y = NAND(xs[0], xs[1])\n",
    "    print(str(xs) + \" -> \" + str(y))"
   ]
  },
  {
   "cell_type": "markdown",
   "metadata": {},
   "source": [
    "Single linear    \n",
    "![OR gate](./figures/dlscratch_orgatecor.png)    \n",
    "A **linear** line can separate $\\triangle$ and $\\bigcirc$ in OR gate"
   ]
  },
  {
   "cell_type": "code",
   "execution_count": 10,
   "metadata": {},
   "outputs": [
    {
     "name": "stdout",
     "output_type": "stream",
     "text": [
      "(x1,x2) -> y\n",
      "OR gate\n",
      "(0, 0) -> 0\n",
      "(1, 0) -> 1\n",
      "(0, 1) -> 1\n",
      "(1, 1) -> 1\n"
     ]
    }
   ],
   "source": [
    "# OR gate\n",
    "import numpy as np\n",
    "\n",
    "def OR(x1, x2):\n",
    "    x = np.array([x1, x2])\n",
    "    w = np.array([1, 1])\n",
    "    b = -0.5\n",
    "    tmp = np.sum(w*x) + b\n",
    "    if tmp <= 0:\n",
    "        return 0\n",
    "    else:\n",
    "        return 1\n",
    "\n",
    "print('(x1,x2) -> y\\nOR gate')\n",
    "for xs in [(0, 0), (1, 0), (0, 1), (1, 1)]:\n",
    "    y = OR(xs[0], xs[1])\n",
    "    print(str(xs) + \" -> \" + str(y))"
   ]
  },
  {
   "cell_type": "markdown",
   "metadata": {},
   "source": [
    "### Multiple layer perceptron\n",
    "\n",
    "![OR gate](./figures/dlscratch_xorgatecor.png) ![XOR gate](./figures/dlscratch_xorgateco.png) ![Multi-layer perceptrion](./figures/dlscratch_perceptronmulti.png)    \n",
    "A **non-linear** line can separate $\\triangle$ and $\\bigcirc$ in XOR gate    \n"
   ]
  },
  {
   "cell_type": "code",
   "execution_count": 11,
   "metadata": {},
   "outputs": [
    {
     "name": "stdout",
     "output_type": "stream",
     "text": [
      "(x1,x2) -> y\n",
      "XOR gate\n",
      "(0, 0) -> 0\n",
      "(1, 0) -> 1\n",
      "(0, 1) -> 1\n",
      "(1, 1) -> 0\n"
     ]
    }
   ],
   "source": [
    "# XOR gate\n",
    "def XOR(x1, x2):\n",
    "    # overlay different perceptrons like lego\n",
    "    s1 = NAND(x1, x2)\n",
    "    s2 = OR(x1, x2)\n",
    "    y = AND(s1, s2)\n",
    "    return y\n",
    "\n",
    "print('(x1,x2) -> y\\nXOR gate')\n",
    "for xs in [(0, 0), (1, 0), (0, 1), (1, 1)]:\n",
    "    y = XOR(xs[0], xs[1])\n",
    "    print(str(xs) + \" -> \" + str(y))"
   ]
  },
  {
   "cell_type": "markdown",
   "metadata": {},
   "source": [
    "## Neural networks"
   ]
  },
  {
   "cell_type": "markdown",
   "metadata": {},
   "source": [
    "### From perceptron to neural networks\n",
    "A first look at neural network diagram    \n",
    "![A neural network](./figures/dlscratch_nn.png)    \n",
    "Review a perceptron:    \n",
    "![A perceptron](./figures/dlscratch_perceptronbias.png) $\n",
    "y = \n",
    "\\begin{cases} \n",
    "0 & (b+ w_1 x_1 + w_2 x_2 \\leq 0), \\\\\n",
    "1 & (b+ w_1 x_1 + w_2 x_2 > 0).\n",
    "\\end{cases}\n",
    "$\n",
    "$b$ is called bias, the value of $b$ decides the neuron is activated easily or not.     \n",
    "Rewrite into: $y=h(b+w_1 x_1 + w_2 x_2)$ and $\n",
    "h(x) = \n",
    "\\begin{cases} \n",
    "0 & (x \\leq 0), \\\\\n",
    "1 & (x > 0).\n",
    "\\end{cases}\n",
    "$\n",
    "\n",
    "$h(x)$ is\n",
    " called **activation function**, to be specific, rewrite the function above as: $a=b+w_1 x_1 + w_2 x_2$ and $y=h(a)$, a diagram shows below:    \n",
    "![A perceptron](./figures/dlscratch_perceptronbiasact.png) \n",
    "\n",
    "\n"
   ]
  },
  {
   "cell_type": "markdown",
   "metadata": {},
   "source": [
    "### Activation functions\n",
    "#### Sigmoid function\n",
    "$$ h(x)=\\frac{1}{1+e^{-x}}  $$\n"
   ]
  },
  {
   "cell_type": "code",
   "execution_count": 15,
   "metadata": {},
   "outputs": [
    {
     "data": {
      "image/png": "[encoded data removed]",
      "text/plain": [
       "<Figure size 640x480 with 1 Axes>"
      ]
     },
     "metadata": {},
     "output_type": "display_data"
    }
   ],
   "source": [
    "# step function and sigmoid function\n",
    "import numpy as np\n",
    "import matplotlib.pylab as plt\n",
    "\n",
    "# sigmoid function is used in neural networks, for smooth change\n",
    "def sigmoid(x):\n",
    "    return 1 / (1 + np.exp(-x))\n",
    "\n",
    "# step function is used in perceptron, for rapid signal changes\n",
    "def step_function(x):\n",
    "    return np.array(x > 0, dtype=int)\n",
    "\n",
    "x = np.arange(-5.0, 5.0, 0.1)\n",
    "y1 = sigmoid(x)\n",
    "y2 = step_function(x)\n",
    "\n",
    "plt.plot(x, y1)\n",
    "plt.plot(x, y2, 'k--')\n",
    "plt.ylim(-0.1, 1.1) \n",
    "plt.title('step function (dashed line) and sigmoid function')\n",
    "plt.show()"
   ]
  },
  {
   "cell_type": "markdown",
   "metadata": {},
   "source": [
    "#### ReLU function\n",
    "$$\n",
    "h(x) = \n",
    "\\begin{cases} \n",
    "0 & (x \\leq 0), \\\\\n",
    "x & (x > 0).\n",
    "\\end{cases}\n",
    "$$"
   ]
  },
  {
   "cell_type": "code",
   "execution_count": 16,
   "metadata": {},
   "outputs": [
    {
     "data": {
      "image/png": "[encoded data removed]",
      "text/plain": [
       "<Figure size 640x480 with 1 Axes>"
      ]
     },
     "metadata": {},
     "output_type": "display_data"
    }
   ],
   "source": [
    "# ReLU function\n",
    "import numpy as np\n",
    "import matplotlib.pylab as plt\n",
    "\n",
    "def relu(x):\n",
    "    return np.maximum(0, x)\n",
    "\n",
    "x = np.arange(-5.0, 5.0, 0.1)\n",
    "y = relu(x)\n",
    "plt.plot(x, y)\n",
    "plt.ylim(-1.0, 5.5)\n",
    "plt.title('ReLU function')\n",
    "plt.show()"
   ]
  },
  {
   "cell_type": "markdown",
   "metadata": {},
   "source": [
    "### Multidimensional arrays\n",
    "The number of columns of first array should be same as the the number of rows of second array.    \n",
    "For example: (3x2)*(2x4)=3x4"
   ]
  },
  {
   "cell_type": "code",
   "execution_count": 41,
   "metadata": {},
   "outputs": [
    {
     "name": "stdout",
     "output_type": "stream",
     "text": [
      "array A: [1 2 3 4] \n",
      "A.ndim: 1 A.shape: (4,) A.shape[0]: 4\n",
      "array B:\n",
      " [[1 2]\n",
      " [3 4]\n",
      " [5 6]]\n",
      "B.ndim: 2 B.shape: (3, 2) B.shape[0]: 3 B.shape[1]: 2\n",
      "\n",
      "Matrix dot product\n",
      " A.shape (2, 3) B.shape (3, 2) \n",
      "dot(A,B).shape (2, 2)\n",
      " np.dot(A,B)\n",
      " [[22 28]\n",
      " [49 64]] \n",
      "np.dot(B,A)\n",
      " [[ 9 12 15]\n",
      " [19 26 33]\n",
      " [29 40 51]] \n",
      "dot(B,A).shape (3, 3)\n"
     ]
    }
   ],
   "source": [
    "import numpy as np \n",
    "# one dimension array\n",
    "A = np.array([1, 2, 3, 4])\n",
    "print(f'array A: {A} \\nA.ndim: {A.ndim} A.shape: {A.shape} A.shape[0]: {A.shape[0]}')\n",
    "# two dimension array (matrix)\n",
    "B = np.array([[1,2], [3,4], [5,6]])\n",
    "print(f'array B:\\n {B}\\nB.ndim: {B.ndim} B.shape: {B.shape} B.shape[0]: {B.shape[0]} B.shape[1]: {B.shape[1]}\\n')\n",
    "\n",
    "# multiply or dot\n",
    "A = np.array([[1,2,3], [4,5,6]])\n",
    "B = np.array([[1,2], [3,4], [5,6]])\n",
    "print(f'Matrix dot product\\n A.shape {A.shape} B.shape {B.shape} \\ndot(A,B).shape {np.dot(A,B).shape}\\n \\\n",
    "np.dot(A,B)\\n {np.dot(A,B)} \\nnp.dot(B,A)\\n {np.dot(B,A)} \\ndot(B,A).shape {np.dot(B,A).shape}')"
   ]
  },
  {
   "cell_type": "markdown",
   "metadata": {},
   "source": [
    "Dot product of a neural networks    \n",
    "![dot product of a neural networks](./figures/dlscratch_nndot.png)    \n"
   ]
  },
  {
   "cell_type": "code",
   "execution_count": 43,
   "metadata": {},
   "outputs": [
    {
     "name": "stdout",
     "output_type": "stream",
     "text": [
      "[ 5 11 17]\n"
     ]
    }
   ],
   "source": [
    "# a one layer neural network\n",
    "X = np.array([1, 2]) # input elements\n",
    "W = np.array([[1, 3, 5], [2, 4, 6]]) # weights of each element\n",
    "Y = np.dot(X, W) # output\n",
    "print(Y)"
   ]
  },
  {
   "cell_type": "markdown",
   "metadata": {},
   "source": [
    "### A 3-layer neural networks\n",
    "\n",
    "![From input to 1st layer](./figures/dlscratch_nn3layer1.png)\n",
    "From input to 1st layer    \n",
    "![From 1st to 2nd layer](./figures/dlscratch_nn3layer2.png)\n",
    "From 1st to 2nd layer    \n",
    "![From 2nd to output layer](./figures/dlscratch_nn3layer3.png)\n",
    "From 2nd to output layer"
   ]
  },
  {
   "cell_type": "code",
   "execution_count": 2,
   "metadata": {},
   "outputs": [
    {
     "name": "stdout",
     "output_type": "stream",
     "text": [
      "[0.31682708 0.69627909]\n"
     ]
    }
   ],
   "source": [
    "import numpy as np\n",
    "\n",
    "def init_network():\n",
    "    network = {} # a dictionary including keys such as weights and bias\n",
    "    network['W1'] = np.array([[0.1, 0.3, 0.5], [0.2, 0.4, 0.6]])\n",
    "    network['b1'] = np.array([0.1, 0.2, 0.3])\n",
    "    network['W2'] = np.array([[0.1, 0.4], [0.2, 0.5], [0.3, 0.6]])\n",
    "    network['b2'] = np.array([0.1, 0.2])\n",
    "    network['W3'] = np.array([[0.1, 0.3], [0.2, 0.4]])\n",
    "    network['b3'] = np.array([0.1, 0.2])\n",
    "    return network\n",
    "\n",
    "def identity_function(x):\n",
    "    # used for regression\n",
    "    return x\n",
    "\n",
    "def sigmoid(x):\n",
    "    # used for binary classification\n",
    "    return 1 / (1 + np.exp(-x))\n",
    "\n",
    "def forward(network, x):\n",
    "    # x is input elements\n",
    "    W1, W2, W3 = network['W1'], network['W2'], network['W3']\n",
    "    b1, b2, b3 = network['b1'], network['b2'], network['b3']\n",
    "    a1 = np.dot(x, W1) + b1\n",
    "    z1 = sigmoid(a1)\n",
    "    a2 = np.dot(z1, W2) + b2\n",
    "    z2 = sigmoid(a2)\n",
    "    a3 = np.dot(z2, W3) + b3\n",
    "    y = identity_function(a3)\n",
    "    return y\n",
    "\n",
    "network = init_network()\n",
    "x = np.array([1.0, 0.5])\n",
    "y = forward(network, x)\n",
    "print(y) # [ 0.31682708 0.69627909]"
   ]
  },
  {
   "cell_type": "markdown",
   "metadata": {},
   "source": [
    "### Output layer\n",
    "\n",
    "Regression problem uses idendity function;    \n",
    "Classification problem uses softmax function, output becomes probability, sum is 1. Because softmax funciton doesn't change output distribution, sometimes softmax function can be neglected in classification problem so that less computation time and memory.\n",
    "$$y_k = \\frac{e^{a_k}}{\\sum_{i=1}^n e^{a_i}}$$\n",
    "\n",
    "The number of output layer depends on tasks, for instance, number classification has 10 classes, gender classification has 2 classes in general (here we don't consider LBGTQ~)"
   ]
  },
  {
   "cell_type": "code",
   "execution_count": 16,
   "metadata": {},
   "outputs": [
    {
     "name": "stdout",
     "output_type": "stream",
     "text": [
      "array a [3.00e-01 2.90e+00 9.01e+02]\n",
      "exp of a [ 1.34985881 18.17414537         inf]\n",
      "sum_exp_a inf\n",
      "y [ 0.  0. nan]\n",
      "softmax(a) after overflow preventing [0. 0. 1.]\n"
     ]
    },
    {
     "name": "stderr",
     "output_type": "stream",
     "text": [
      "C:\\Users\\zhang\\AppData\\Local\\Temp\\ipykernel_31224\\3256760056.py:6: RuntimeWarning: overflow encountered in exp\n",
      "  exp_a = np.exp(a)\n",
      "C:\\Users\\zhang\\AppData\\Local\\Temp\\ipykernel_31224\\3256760056.py:10: RuntimeWarning: invalid value encountered in divide\n",
      "  y = exp_a / sum_exp_a\n"
     ]
    }
   ],
   "source": [
    "# softmax function\n",
    "import numpy as np\n",
    "\n",
    "a = np.array([0.3, 2.9, 901.0])\n",
    "print(f'array a {a}')\n",
    "exp_a = np.exp(a)\n",
    "print(f'exp of a {exp_a}')\n",
    "sum_exp_a = np.sum(exp_a)\n",
    "print(f'sum_exp_a {sum_exp_a}')\n",
    "y = exp_a / sum_exp_a\n",
    "print(f'y {y}')\n",
    "\n",
    "def softmax(a):\n",
    "    c = np.max(a)\n",
    "    exp_a = np.exp(a - c) # avoid overflow\n",
    "    sum_exp_a = np.sum(exp_a)\n",
    "    y = exp_a / sum_exp_a\n",
    "    return y\n",
    "print(f'softmax(a) after overflow preventing {softmax(a)}')"
   ]
  },
  {
   "cell_type": "markdown",
   "metadata": {},
   "source": [
    "### Handwritten digital number recognition"
   ]
  },
  {
   "cell_type": "code",
   "execution_count": 36,
   "metadata": {},
   "outputs": [
    {
     "name": "stdout",
     "output_type": "stream",
     "text": [
      "x_train.shape (60000, 784) y_train.shape (60000,) x_test.shape (10000, 784) y_test.shape (10000,)\n",
      "img.shape (784,) label 5\n",
      "img.shape after reshape (28, 28)\n"
     ]
    },
    {
     "data": {
      "image/png": "[encoded data removed]",
      "text/plain": [
       "<Figure size 100x100 with 1 Axes>"
      ]
     },
     "metadata": {},
     "output_type": "display_data"
    }
   ],
   "source": [
    "import sys, os\n",
    "sys.path.append(os.pardir)  # Settings for importing files from a parent directory\n",
    "import numpy as np\n",
    "from dataset.mnist import load_mnist\n",
    "\n",
    "# load dataset\n",
    "(x_train, y_train), (x_test, y_test) = load_mnist(flatten=True, normalize=False, one_hot_label=False)\n",
    "\n",
    "# show dataset info\n",
    "print(f'x_train.shape {x_train.shape} y_train.shape {y_train.shape} x_test.shape {x_test.shape} y_test.shape {y_test.shape}') \n",
    "\n",
    "# show one image and label\n",
    "img = x_train[0]\n",
    "label = y_train[0]\n",
    "print(f'img.shape {img.shape} label {label}')  # (784,) 5\n",
    "\n",
    "img = img.reshape(28, 28)  \n",
    "print(f'img.shape after reshape {img.shape}')  # (28, 28)\n",
    "\n",
    "plt.figure(figsize=(1, 1)) # inch\n",
    "plt.imshow(img, cmap='gray')\n",
    "plt.title(f'Label: {label}')\n",
    "plt.axis('off') \n",
    "plt.show()"
   ]
  },
  {
   "cell_type": "code",
   "execution_count": 37,
   "metadata": {},
   "outputs": [
    {
     "name": "stdout",
     "output_type": "stream",
     "text": [
      "Accuracy:0.9352\n"
     ]
    }
   ],
   "source": [
    "import sys, os\n",
    "sys.path.append(os.pardir) # Settings for importing files from a parent directory\n",
    "import numpy as np\n",
    "import pickle # used to save object into a file, or vice versa\n",
    "from dataset.mnist import load_mnist\n",
    "\n",
    "def sigmoid(x):\n",
    "    return 1 / (1 + np.exp(-x))\n",
    "\n",
    "def softmax(a):\n",
    "    c = np.max(a)\n",
    "    exp_a = np.exp(a - c) # avoid overflow\n",
    "    sum_exp_a = np.sum(exp_a)\n",
    "    y = exp_a / sum_exp_a\n",
    "    return y\n",
    "\n",
    "def get_data():\n",
    "    (x_train, t_train), (x_test, t_test) = load_mnist(normalize=True, flatten=True, one_hot_label=False)\n",
    "    return x_test, t_test\n",
    "\n",
    "\n",
    "def init_network():\n",
    "    with open(\"dataset/sample_weight.pkl\", 'rb') as f:\n",
    "        network = pickle.load(f)\n",
    "    return network\n",
    "\n",
    "\n",
    "def predict(network, x):\n",
    "    W1, W2, W3 = network['W1'], network['W2'], network['W3']\n",
    "    b1, b2, b3 = network['b1'], network['b2'], network['b3']\n",
    "\n",
    "    a1 = np.dot(x, W1) + b1\n",
    "    z1 = sigmoid(a1)\n",
    "    a2 = np.dot(z1, W2) + b2\n",
    "    z2 = sigmoid(a2)\n",
    "    a3 = np.dot(z2, W3) + b3\n",
    "    y = softmax(a3)\n",
    "\n",
    "    return y\n",
    "\n",
    "\n",
    "x, t = get_data()\n",
    "network = init_network()\n",
    "accuracy_cnt = 0\n",
    "for i in range(len(x)):\n",
    "    y = predict(network, x[i])\n",
    "    p= np.argmax(y) # Get the index of the most probable element\n",
    "    if p == t[i]:\n",
    "        accuracy_cnt += 1\n",
    "\n",
    "print(\"Accuracy:\" + str(float(accuracy_cnt) / len(x)))"
   ]
  },
  {
   "cell_type": "code",
   "execution_count": 41,
   "metadata": {},
   "outputs": [
    {
     "name": "stdout",
     "output_type": "stream",
     "text": [
      "X (784,) -> W1 (784, 50) -> W2 (50, 100) -> W3 (100, 10) -> y (10,)\n"
     ]
    }
   ],
   "source": [
    "# shape check\n",
    "W1, W2, W3 = network['W1'], network['W2'], network['W3']\n",
    "print(f'X {x[0].shape} -> W1 {W1.shape} -> W2 {W2.shape} -> W3 {W3.shape} -> y {y.shape}')"
   ]
  },
  {
   "cell_type": "markdown",
   "metadata": {},
   "source": [
    "Batch processing"
   ]
  },
  {
   "cell_type": "code",
   "execution_count": 43,
   "metadata": {},
   "outputs": [
    {
     "name": "stdout",
     "output_type": "stream",
     "text": [
      "Accuracy:0.9352\n"
     ]
    }
   ],
   "source": [
    "import sys, os\n",
    "sys.path.append(os.pardir)  # Settings for importing files from a parent directory\n",
    "import numpy as np\n",
    "import pickle\n",
    "from dataset.mnist import load_mnist\n",
    "\n",
    "\n",
    "def get_data():\n",
    "    (x_train, t_train), (x_test, t_test) = load_mnist(normalize=True, flatten=True, one_hot_label=False)\n",
    "    return x_test, t_test\n",
    "\n",
    "\n",
    "def init_network():\n",
    "    with open(\"dataset/sample_weight.pkl\", 'rb') as f:\n",
    "        network = pickle.load(f)\n",
    "    return network\n",
    "\n",
    "\n",
    "def predict(network, x):\n",
    "    w1, w2, w3 = network['W1'], network['W2'], network['W3']\n",
    "    b1, b2, b3 = network['b1'], network['b2'], network['b3']\n",
    "\n",
    "    a1 = np.dot(x, w1) + b1\n",
    "    z1 = sigmoid(a1)\n",
    "    a2 = np.dot(z1, w2) + b2\n",
    "    z2 = sigmoid(a2)\n",
    "    a3 = np.dot(z2, w3) + b3\n",
    "    y = softmax(a3)\n",
    "\n",
    "    return y\n",
    "\n",
    "\n",
    "x, t = get_data()\n",
    "network = init_network()\n",
    "\n",
    "batch_size = 100 \n",
    "accuracy_cnt = 0\n",
    "\n",
    "for i in range(0, len(x), batch_size):\n",
    "    x_batch = x[i:i+batch_size]\n",
    "    y_batch = predict(network, x_batch)\n",
    "    p = np.argmax(y_batch, axis=1) # axis = 0 is column, 1 is row, here y_batch (100, 10), means take the max value in each row\n",
    "    accuracy_cnt += np.sum(p == t[i:i+batch_size]) # is same, return true, or return false, then sum the number of trues\n",
    "\n",
    "print(\"Accuracy:\" + str(float(accuracy_cnt) / len(x)))\n"
   ]
  },
  {
   "cell_type": "code",
   "execution_count": 46,
   "metadata": {},
   "outputs": [
    {
     "name": "stdout",
     "output_type": "stream",
     "text": [
      "x_batch (100, 784) -> W1 (784, 50) -> W2 (50, 100) -> W3 (100, 10) -> y_batch (100, 10)\n"
     ]
    }
   ],
   "source": [
    "# shape check\n",
    "W1, W2, W3 = network['W1'], network['W2'], network['W3']\n",
    "print(f'x_batch {x_batch.shape} -> W1 {W1.shape} -> W2 {W2.shape} -> W3 {W3.shape} -> y_batch {y_batch.shape}')"
   ]
  },
  {
   "cell_type": "markdown",
   "metadata": {},
   "source": [
    "## Learning neural networks\n",
    "The \"learning\" mentioned here refers to the process of automatically obtaining the optimal weight parameters from the training data.\n",
    "![From human to machine learning to deep learning](./figures/dlscratch_humanmldl.png)"
   ]
  },
  {
   "cell_type": "markdown",
   "metadata": {},
   "source": [
    "### Learn from data\n",
    "The neural networks learn from **training data**, to test the **generalization** of model, model test on **test data**, model can hav **over fitting** state if the model behave good only on specific dataset."
   ]
  },
  {
   "cell_type": "markdown",
   "metadata": {},
   "source": [
    "### Loss functions\n",
    "**Loss function** is a index that shows how bad/good a model's performance is.\n",
    "For example, **mean squared error**:\n",
    "$$ E = \\sum_k(y_k-t_k)^2 $$\n",
    "$y$ is output of model, $t$ is labeled data, $k$ is dimension, for instance, $k=10$ in digital number    \n",
    "**Cross entropy error** is defined as:\n",
    "$$E=-\\sum_k t_k \\log y_k$$\n",
    "mean that the higher prediction, the lower the cross entropy error."
   ]
  },
  {
   "cell_type": "markdown",
   "metadata": {},
   "source": [
    "Why need loss funcion    \n",
    "* The aim is to find best weights of neural networks automatically.\n",
    "* The recognition accuracy has little response to small parameter changes. Even if it does, its value changes discontinuously and suddenly.\n",
    "* Instead of accuracy, loss changes continuesly.\n",
    "* Similarly, activation function like step function can not make neural network learn, because most of time it's 0.\n",
    "* Instead, sigmoid function is smooth, and the gradient is not 0, which is good for model to learn."
   ]
  },
  {
   "cell_type": "code",
   "execution_count": 14,
   "metadata": {},
   "outputs": [
    {
     "name": "stdout",
     "output_type": "stream",
     "text": [
      "mse error 0.195 of t [0, 0, 1, 0, 0, 0, 0, 0, 0, 0] and y [0.1, 0.05, 0.6, 0.0, 0.05, 0.1, 0.0, 0.1, 0.0, 0.0]\n",
      "mse error 1.195 of t [0, 0, 1, 0, 0, 0, 0, 0, 0, 0] and y [0.1, 0.05, 0.1, 0.0, 0.05, 0.1, 0.0, 0.6, 0.0, 0.0]\n",
      "\n",
      "cel loss: 0.511 of t [0, 0, 1, 0, 0, 0, 0, 0, 0, 0] and y [0.1, 0.05, 0.6, 0.0, 0.05, 0.1, 0.0, 0.1, 0.0, 0.0]\n",
      "cel loss: 2.303 of t [0, 0, 1, 0, 0, 0, 0, 0, 0, 0] and y [0.1, 0.05, 0.1, 0.0, 0.05, 0.1, 0.0, 0.6, 0.0, 0.0]\n"
     ]
    }
   ],
   "source": [
    "# mean squared error for one number\n",
    "import numpy as np\n",
    "\n",
    "def mean_squared_error(y, t):\n",
    "    return np.sum((y-t)**2)\n",
    "\n",
    "t = [0, 0, 1, 0, 0, 0, 0, 0, 0, 0] # one hot label of 2\n",
    "y = [0.1, 0.05, 0.6, 0.0, 0.05, 0.1, 0.0, 0.1, 0.0, 0.0] # predict probability\n",
    "error = mean_squared_error(np.array(y), np.array(t)) # error or loss\n",
    "print(f'mse error {error:.3f} of t {t} and y {y}')\n",
    "y = [0.1, 0.05, 0.1, 0.0, 0.05, 0.1, 0.0, 0.6, 0.0, 0.0]\n",
    "error = mean_squared_error(np.array(y), np.array(t))\n",
    "print(f'mse error {error:.3f} of t {t} and y {y}')\n",
    "print()\n",
    "# cross entropy loss for one number\n",
    "def cross_entropy_error(y, t):\n",
    "    delta = 1e-7\n",
    "    return -np.sum(t * np.log(y + delta))\n",
    "\n",
    "t = [0, 0, 1, 0, 0, 0, 0, 0, 0, 0]\n",
    "y = [0.1, 0.05, 0.6, 0.0, 0.05, 0.1, 0.0, 0.1, 0.0, 0.0]\n",
    "error_cel = cross_entropy_error(np.array(y), np.array(t))\n",
    "print(f'cel loss: {error_cel:.3f} of t {t} and y {y}')\n",
    "y = [0.1, 0.05, 0.1, 0.0, 0.05, 0.1, 0.0, 0.6, 0.0, 0.0]\n",
    "error_cel = cross_entropy_error(np.array(y), np.array(t))\n",
    "print(f'cel loss: {error_cel:.3f} of t {t} and y {y}')\n"
   ]
  },
  {
   "cell_type": "markdown",
   "metadata": {},
   "source": [
    "batch based loss\n",
    "$$E=-\\frac{1}{N}\\sum_n\\sum_k t_{nk} \\log y_{nk}$$\n",
    "$N$ is the batch size"
   ]
  },
  {
   "cell_type": "code",
   "execution_count": 29,
   "metadata": {},
   "outputs": [
    {
     "name": "stdout",
     "output_type": "stream",
     "text": [
      "x_train.shape (60000, 784) t_train.shape (60000, 10)\n",
      "batch mask [45175 41462 47670 47477  3560 55597 23771  6682 47686 41518]\n",
      "\n",
      "np.arange(batch_size) [0 1 2 3 4] \n",
      "\t\t    t [2, 7, 0, 9, 4]\n",
      "\n",
      "coordinates ['y[0,2]', 'y[1,7]', 'y[2,0]', 'y[3,9]', 'y[4,4]']\n",
      "y = np.array shape (5, 10) \n",
      "[[0.1  0.05 0.6  0.   0.05 0.1  0.   0.1  0.   0.  ]\n",
      " [0.1  0.05 0.   0.   0.05 0.1  0.   0.1  0.6  0.  ]\n",
      " [0.1  0.05 0.1  0.   0.05 0.1  0.   0.6  0.   0.  ]\n",
      " [0.1  0.05 0.   0.   0.05 0.1  0.6  0.1  0.   0.  ]\n",
      " [0.1  0.05 0.1  0.   0.55 0.1  0.   0.1  0.   0.  ]]\n",
      "\n",
      "y[np.arange(batch_size),t] [0.6  0.1  0.1  0.   0.55]\n"
     ]
    }
   ],
   "source": [
    "import sys, os\n",
    "sys.path.append(os.pardir)\n",
    "import numpy as np\n",
    "from dataset.mnist import load_mnist\n",
    "\n",
    "(x_train, t_train), (x_test, t_test) = \\\n",
    "load_mnist(normalize=True, one_hot_label=True)\n",
    "print(f'x_train.shape {x_train.shape} t_train.shape {t_train.shape}') # (60000, 784) (60000, 10)\n",
    "\n",
    "train_size = x_train.shape[0]\n",
    "batch_size = 10\n",
    "batch_mask = np.random.choice(train_size, batch_size) # random pick 10 numbers in training set\n",
    "print(f'batch mask {batch_mask}')\n",
    "x_batch = x_train[batch_mask]\n",
    "t_batch = t_train[batch_mask]\n",
    "\n",
    "# cross entropy error for batch number, one-hot label\n",
    "def cross_entropy_error(y, t):\n",
    "    if y.ndim == 1:\n",
    "        t = t.reshape(1, t.size)\n",
    "        y = y.reshape(1, y.size)\n",
    "    batch_size = y.shape[0]\n",
    "    return -np.sum(t * np.log(y + 1e-7)) / batch_size\n",
    "\n",
    "# cross entropy error for batch number, non one-hot label\n",
    "def cross_entropy_error(y, t):\n",
    "    if y.ndim == 1:\n",
    "        t = t.reshape(1, t.size)\n",
    "        y = y.reshape(1, y.size)\n",
    "    batch_size = y.shape[0]\n",
    "    return -np.sum(np.log(y[np.arange(batch_size), t] + 1e-7)) / batch_size\n",
    "\n",
    "# explain for np.log(y[np.arange(batch_size), t] + 1e-7)\n",
    "batch_size = 5\n",
    "np.arange(batch_size)\n",
    "\n",
    "# t ensures that only correct class probability values ​​are used in the calculation.\n",
    "t = [2,7,0,9,4] # non one-hot label\n",
    "y = np.array([\n",
    "    [0.1, 0.05, 0.6, 0.0, 0.05, 0.1, 0.0, 0.1, 0.0, 0.0],\n",
    "    [0.1, 0.05, 0.0, 0.0, 0.05, 0.1, 0.0, 0.1, 0.6, 0.0],\n",
    "    [0.1, 0.05, 0.1, 0.0, 0.05, 0.1, 0.0, 0.6, 0.0, 0.0],\n",
    "    [0.1, 0.05, 0.0, 0.0, 0.05, 0.1, 0.6, 0.1, 0.0, 0.0],\n",
    "    [0.1, 0.05, 0.1, 0.0, 0.55, 0.1, 0.0, 0.1, 0.0, 0.0]\n",
    "])  # predictions from model\n",
    "\n",
    "print(f'\\nnp.arange(batch_size) {np.arange(batch_size)} \\n\\t\\t    t {t}')\n",
    "\n",
    "coordinates = [f'y[{i},{t[i]}]' for i in range(batch_size)]\n",
    "print(f'\\ncoordinates {coordinates}')\n",
    "\n",
    "print(f'y = np.array shape {y.shape} \\n{y}')\n",
    "print(f'\\ny[np.arange(batch_size),t] {y[np.arange(batch_size), t]}')"
   ]
  },
  {
   "cell_type": "markdown",
   "metadata": {},
   "source": [
    "### Numerical differentiation\n",
    "Two ways of calculating the derivative of a function:    \n",
    "1. **Numerical differentiation** is the process of using numerical methods to approximate the derivative of a function.\n",
    "2. **Analytic differentiation**  is the process of using mathematical formulas to calculate the real derivative of a function."
   ]
  },
  {
   "cell_type": "markdown",
   "metadata": {},
   "source": [
    "Derivative of a function\n",
    "\n",
    "$$\\frac{\\text{d} f(x)}{\\text{d} x}=\\lim_{h \\to 0} \\frac{f(x + h) - f(x)}{h}$$\n",
    "\n",
    "![tangent](./figures/dlscratch_tangent.png)"
   ]
  },
  {
   "cell_type": "code",
   "execution_count": 3,
   "metadata": {},
   "outputs": [
    {
     "name": "stdout",
     "output_type": "stream",
     "text": [
      "np.float32(1e-50): 0.0\n"
     ]
    }
   ],
   "source": [
    "import numpy as np\n",
    "\n",
    "# a bad example\n",
    "def numerical_diff(f, x):\n",
    "    h = 10e-50                 # too small will result in rounding error\n",
    "    return (f(x+h) - f(x)) / h # the derivative is the slope between (x + h) and x, due to h is not small enough\n",
    "\n",
    "print(f'np.float32(1e-50): {np.float32(1e-50)}') \n",
    "\n",
    "# a revised version\n",
    "def numerical_diff(f, x):\n",
    "    h = 1e-4 # 0.0001\n",
    "    return (f(x+h) - f(x-h)) / (2*h) # Central Difference"
   ]
  },
  {
   "cell_type": "code",
   "execution_count": 8,
   "metadata": {},
   "outputs": [
    {
     "data": {
      "image/png": "[encoded data removed]",
      "text/plain": [
       "<Figure size 640x480 with 1 Axes>"
      ]
     },
     "metadata": {},
     "output_type": "display_data"
    }
   ],
   "source": [
    "# an example of numerical differential\n",
    "\n",
    "import numpy as np\n",
    "import matplotlib.pylab as plt\n",
    "\n",
    "def function_1(x):\n",
    "    return 0.01*x**2 + 0.1*x\n",
    "\n",
    "\n",
    "x = np.arange(0.0, 20.0, 0.1)\n",
    "y = function_1(x)\n",
    "plt.xlabel(\"x\")\n",
    "plt.ylabel(\"f(x)\")\n",
    "plt.plot(x, y)\n",
    "plt.title(\"$f(x) = 0.01x^2+0.1x$\")\n",
    "plt.show()"
   ]
  },
  {
   "cell_type": "code",
   "execution_count": 19,
   "metadata": {},
   "outputs": [
    {
     "name": "stdout",
     "output_type": "stream",
     "text": [
      "numerical derivative at x = 5 is 0.1999999999990898, analytic diff is 0.2\n",
      "numerical derivative at x = 10 is 0.2999999999986347, analytic diff is 0.30000000000000004\n"
     ]
    },
    {
     "data": {
      "image/png": "[encoded data removed]",
      "text/plain": [
       "<Figure size 1000x500 with 2 Axes>"
      ]
     },
     "metadata": {},
     "output_type": "display_data"
    }
   ],
   "source": [
    "# visualize using numerical differential method\n",
    "import numpy as np\n",
    "import matplotlib.pylab as plt\n",
    "\n",
    "def numerical_diff(f, x):\n",
    "    h = 1e-4 # 0.0001\n",
    "    return (f(x+h) - f(x-h)) / (2*h)\n",
    "\n",
    "def function_1(x):\n",
    "    return 0.01*x**2 + 0.1*x \n",
    "\n",
    "def analytic_diff(x):\n",
    "    return 0.02*x + 0.1\n",
    "\n",
    "def tangent_line(f, x):\n",
    "    d = numerical_diff(f, x)\n",
    "    y = f(x) - d*x\n",
    "    return lambda t: d*t + y\n",
    "\n",
    "# two values are very close\n",
    "print(f'numerical derivative at x = 5 is {numerical_diff(function_1, 5)}, analytic diff is {analytic_diff(5)}')\n",
    "print(f'numerical derivative at x = 10 is {numerical_diff(function_1, 10)}, analytic diff is {analytic_diff(10)}')\n",
    "\n",
    "# visualize\n",
    "x = np.arange(0.0, 20.0, 0.1)\n",
    "y = function_1(x)\n",
    "\n",
    "plt.figure(figsize=(10, 5))\n",
    "plt.subplot(1, 2, 1) \n",
    "\n",
    "x0 = 5\n",
    "tf_5 = tangent_line(function_1, x0)\n",
    "y2_5 = tf_5(x)\n",
    "\n",
    "plt.plot(x, y, label=\"function_1(x)\")\n",
    "plt.plot(x, y2_5, label=\"Tangent line at x=5\", linestyle='--')\n",
    "plt.scatter(x0, function_1(x0), color='black')\n",
    "plt.xlabel(\"x\")\n",
    "plt.ylabel(\"f(x)\")\n",
    "plt.legend()\n",
    "plt.title(\"Tangent at x=5\")\n",
    "\n",
    "plt.subplot(1, 2, 2)\n",
    "\n",
    "x1 = 10\n",
    "tf_10 = tangent_line(function_1, x1)\n",
    "y2_10 = tf_10(x)\n",
    "\n",
    "plt.plot(x, y, label=\"function_1(x)\")\n",
    "plt.plot(x, y2_10, label=\"Tangent line at x=10\", linestyle='--')\n",
    "plt.scatter(x1, function_1(x1), color='black') \n",
    "plt.xlabel(\"x\")\n",
    "plt.ylabel(\"f(x)\")\n",
    "plt.legend()\n",
    "plt.title(\"Tangent at x=10\")\n",
    "\n",
    "plt.tight_layout()\n",
    "plt.show()"
   ]
  },
  {
   "cell_type": "markdown",
   "metadata": {},
   "source": [
    "Partial derivatives\n",
    "\n",
    "The **partial derivatives** of function $f(x_0,x_1)=x_0^2+x_1^2$ is $\\frac{\\partial{f}}{\\partial{x_0}}$ and $\\frac{\\partial{f}}{\\partial{x_1}}$. Calculating partial derivatives is the same as derivatives (using numerical differential method), but partial derivatives require setting one of the multiple variables as the target variable and fixing the other variables to certain values."
   ]
  },
  {
   "cell_type": "code",
   "execution_count": 60,
   "metadata": {},
   "outputs": [
    {
     "data": {
      "image/png": "[encoded data removed]",
      "text/plain": [
       "<Figure size 600x400 with 1 Axes>"
      ]
     },
     "metadata": {},
     "output_type": "display_data"
    }
   ],
   "source": [
    "# visualize a multi variable function\n",
    "\n",
    "import numpy as np\n",
    "import matplotlib.pyplot as plt\n",
    "from mpl_toolkits.mplot3d import Axes3D\n",
    "\n",
    "\n",
    "def function_2(x0, x1):\n",
    "    return x0**2 + x1**2\n",
    "\n",
    "x0 = np.linspace(-3, 3, 20)\n",
    "x1 = np.linspace(-3, 3, 20)\n",
    "x0, x1 = np.meshgrid(x0, x1)\n",
    "\n",
    "z = function_2(x0, x1)\n",
    "\n",
    "fig = plt.figure(figsize=(6,4))\n",
    "ax = fig.add_subplot(111, projection='3d')\n",
    "\n",
    "ax.plot_wireframe(x0, x1, z, color='black', linewidth=0.5)\n",
    "\n",
    "ax.set_xlabel('$x_0$')\n",
    "ax.set_ylabel('$x_1$')\n",
    "ax.set_zlabel('$f(x)$')\n",
    "\n",
    "ax.dist = 30  # distance，增大可以让图形看起来更远，标签会更清晰\n",
    "ax.elev = 15  # Adjust elevation 调整仰角\n",
    "ax.azim = 30  # Adjust the azimuth 调整方位角\n",
    "\n",
    "ax.set_title('$f(x_0, x_1) = x_0^2 + x_1^2$')\n",
    "plt.tight_layout()\n",
    "plt.show()"
   ]
  },
  {
   "cell_type": "code",
   "execution_count": 62,
   "metadata": {},
   "outputs": [
    {
     "name": "stdout",
     "output_type": "stream",
     "text": [
      "numerical_diff(function_tmp1, 3.0) 6.00000000000378\n",
      "numerical_diff(function_tmp2, 4.0) 7.999999999999119\n"
     ]
    }
   ],
   "source": [
    "# calculating partial derivatives of fucntion f = x0**2 + x1**2\n",
    "\n",
    "import numpy as np\n",
    "\n",
    "# need to fix one variable\n",
    "def function_tmp1(x0):\n",
    "    return x0*x0 + 4.0**2.0\n",
    "def function_tmp2(x1):\n",
    "    return 3.0**2.0 + x1*x1\n",
    "\n",
    "print(f'numerical_diff(function_tmp1, 3.0) {numerical_diff(function_tmp1, 3.0)}')\n",
    "print(f'numerical_diff(function_tmp2, 4.0) {numerical_diff(function_tmp2, 4.0)}')"
   ]
  },
  {
   "cell_type": "markdown",
   "metadata": {},
   "source": [
    "### Gradient\n",
    "**Graidient** is to calculate all the $(\\frac{\\partial{f}}{\\partial{x_0}},\\frac{\\partial{f}}{\\partial{x_1}})$\n",
    "\n",
    "The gradient indicates the direction in which the function value rises fastest, while the negative gradient indicates the direction in which the function value decreases fastest. The negative gradient direction plays a key role in many optimization algorithms, especially when you need to minimize a function (such as a loss function)."
   ]
  },
  {
   "cell_type": "code",
   "execution_count": 63,
   "metadata": {},
   "outputs": [
    {
     "name": "stdout",
     "output_type": "stream",
     "text": [
      "numerical_gradient(function_2, np.array([3.0, 4.0])) [6. 8.]\n",
      "numerical_gradient(function_2, np.array([0.0, 2.0])) [0. 4.]\n",
      "numerical_gradient(function_2, np.array([3.0, 0.0])) [6. 0.]\n"
     ]
    }
   ],
   "source": [
    "import numpy as np\n",
    "\n",
    "# single variable\n",
    "def numerical_diff(f, x):\n",
    "    h = 1e-4 # 0.0001\n",
    "    return (f(x+h) - f(x-h)) / (2*h)\n",
    "\n",
    "# multi variables, x is an array\n",
    "def numerical_gradient(f, x):\n",
    "    h = 1e-4 # 0.0001\n",
    "    grad = np.zeros_like(x) \n",
    "    for idx in range(x.size):\n",
    "        tmp_val = x[idx]\n",
    "        # f(x+h)\n",
    "        x[idx] = tmp_val + h\n",
    "        fxh1 = f(x)\n",
    "        # f(x-h)\n",
    "        x[idx] = tmp_val - h\n",
    "        fxh2 = f(x)\n",
    "        grad[idx] = (fxh1 - fxh2) / (2*h)\n",
    "        x[idx] = tmp_val\n",
    "    return grad\n",
    "\n",
    "def function_2(x):\n",
    "    if x.ndim == 1:\n",
    "        return np.sum(x**2)\n",
    "    else:\n",
    "        return np.sum(x**2, axis=1)\n",
    "\n",
    "print(f'numerical_gradient(function_2, np.array([3.0, 4.0])) {numerical_gradient(function_2, np.array([3.0, 4.0]))}')\n",
    "print(f'numerical_gradient(function_2, np.array([0.0, 2.0])) {numerical_gradient(function_2, np.array([0.0, 2.0]))}')\n",
    "print(f'numerical_gradient(function_2, np.array([3.0, 0.0])) {numerical_gradient(function_2, np.array([3.0, 0.0]))}')"
   ]
  },
  {
   "cell_type": "code",
   "execution_count": 65,
   "metadata": {},
   "outputs": [
    {
     "data": {
      "image/png": "[encoded data removed]",
      "text/plain": [
       "<Figure size 640x480 with 1 Axes>"
      ]
     },
     "metadata": {},
     "output_type": "display_data"
    }
   ],
   "source": [
    "\n",
    "import numpy as np\n",
    "import matplotlib.pylab as plt\n",
    "from mpl_toolkits.mplot3d import Axes3D\n",
    "\n",
    "\n",
    "def _numerical_gradient_no_batch(f, x):\n",
    "    h = 1e-4  # 0.0001\n",
    "    grad = np.zeros_like(x)\n",
    "    \n",
    "    for idx in range(x.size):\n",
    "        tmp_val = x[idx]\n",
    "        x[idx] = float(tmp_val) + h\n",
    "        fxh1 = f(x)  # f(x+h)\n",
    "        \n",
    "        x[idx] = tmp_val - h \n",
    "        fxh2 = f(x)  # f(x-h)\n",
    "        grad[idx] = (fxh1 - fxh2) / (2*h)\n",
    "        \n",
    "        x[idx] = tmp_val # restore the value\n",
    "        \n",
    "    return grad\n",
    "\n",
    "\n",
    "def numerical_gradient(f, X):\n",
    "    if X.ndim == 1:\n",
    "        return _numerical_gradient_no_batch(f, X)\n",
    "    else:\n",
    "        grad = np.zeros_like(X)\n",
    "        \n",
    "        for idx, x in enumerate(X):\n",
    "            grad[idx] = _numerical_gradient_no_batch(f, x)\n",
    "        \n",
    "        return grad\n",
    "\n",
    "\n",
    "def function_2(x):\n",
    "    if x.ndim == 1:\n",
    "        return np.sum(x**2)\n",
    "    else:\n",
    "        return np.sum(x**2, axis=1)\n",
    "\n",
    "\n",
    "if __name__ == '__main__':\n",
    "    x0 = np.arange(-2, 2.5, 0.25)\n",
    "    x1 = np.arange(-2, 2.5, 0.25)\n",
    "    X, Y = np.meshgrid(x0, x1)\n",
    "    \n",
    "    X = X.flatten()\n",
    "    Y = Y.flatten()\n",
    "\n",
    "    grad = numerical_gradient(function_2, np.array([X, Y]).T).T\n",
    "\n",
    "    plt.figure()\n",
    "    # The vector field shows the direction of descent of the function (use -grad to indicate negative gradient, i.e. descent direction).\n",
    "    plt.quiver(X, Y, -grad[0], -grad[1],  angles=\"xy\",color=\"#666666\") # Represents the gradient direction and magnitude of each point\n",
    "    plt.xlim([-2, 2])\n",
    "    plt.ylim([-2, 2])\n",
    "    plt.xlabel('x0')\n",
    "    plt.ylabel('x1')\n",
    "    plt.grid()\n",
    "    plt.draw()\n",
    "    plt.show()"
   ]
  },
  {
   "cell_type": "markdown",
   "metadata": {},
   "source": [
    "Gradient descent method    \n",
    "Along the direction of gradient descent, it is possible to find the place where the function (loss function in DL) value is minimum. The mathematic definition is (say 2 variables):    \n",
    "$$x_0 = x_0-\\eta\\frac{\\partial f}{\\partial x_0}\\\\\n",
    "  x_1 = x_1-\\eta\\frac{\\partial f}{\\partial x_1}$$    \n",
    "$\\eta$ is update quantity, in neural network learning, it's called learning rate."
   ]
  },
  {
   "cell_type": "code",
   "execution_count": 69,
   "metadata": {},
   "outputs": [
    {
     "data": {
      "image/png": "[encoded data removed]",
      "text/plain": [
       "<Figure size 640x480 with 1 Axes>"
      ]
     },
     "metadata": {},
     "output_type": "display_data"
    }
   ],
   "source": [
    "# implemention of gradient descent\n",
    "\n",
    "import numpy as np\n",
    "\n",
    "def gradient_descent(f, init_x, lr=0.01, step_num=100):\n",
    "    x = init_x\n",
    "    for i in range(step_num):\n",
    "        grad = numerical_gradient(f, x)\n",
    "        x -= lr * grad\n",
    "    return x\n",
    "\n",
    "# an example for calculating minimum value of function using gradient descent\n",
    "import matplotlib.pylab as plt\n",
    "\n",
    "def gradient_descent(f, init_x, lr=0.01, step_num=100):\n",
    "    x = init_x\n",
    "    x_history = []\n",
    "\n",
    "    for i in range(step_num):\n",
    "        x_history.append( x.copy() )\n",
    "\n",
    "        grad = numerical_gradient(f, x)\n",
    "        x -= lr * grad\n",
    "\n",
    "    return x, np.array(x_history)\n",
    "\n",
    "\n",
    "def function_2(x):\n",
    "    return x[0]**2 + x[1]**2\n",
    "\n",
    "init_x = np.array([-3.0, 4.0])    \n",
    "\n",
    "lr = 0.1\n",
    "step_num = 20\n",
    "x, x_history = gradient_descent(function_2, init_x, lr=lr, step_num=step_num)\n",
    "\n",
    "plt.plot( [-5, 5], [0,0], '--b')\n",
    "plt.plot( [0,0], [-5, 5], '--b')\n",
    "plt.plot(x_history[:,0], x_history[:,1], 'o')\n",
    "\n",
    "plt.xlim(-3.5, 3.5)\n",
    "plt.ylim(-4.5, 4.5)\n",
    "plt.xlabel(\"X0\")\n",
    "plt.ylabel(\"X1\")\n",
    "plt.title('process of updating, init x=[-3.0,4.0]')\n",
    "plt.show()"
   ]
  },
  {
   "cell_type": "code",
   "execution_count": 73,
   "metadata": {},
   "outputs": [
    {
     "name": "stdout",
     "output_type": "stream",
     "text": [
      "gradient_descent(function_2, init_x=init_x, lr=10.0, step_num=100) [-2.58983747e+13 -1.29524862e+12]\n",
      "gradient_descent(function_2, init_x=init_x, lr=1e-10, step_num=100) [-2.99999994  3.99999992]\n"
     ]
    }
   ],
   "source": [
    "# what if the learning rate is too large or too small\n",
    "\n",
    "def gradient_descent(f, init_x, lr=0.01, step_num=100):\n",
    "    x = init_x\n",
    "    for i in range(step_num):\n",
    "        grad = numerical_gradient(f, x)\n",
    "        x -= lr * grad\n",
    "    return x\n",
    "\n",
    "init_x = np.array([-3.0, 4.0])\n",
    "print(f'gradient_descent(function_2, init_x=init_x, lr=10.0, step_num=100) {gradient_descent(function_2, init_x=init_x, lr=10.0, step_num=100)}')\n",
    "init_x = np.array([-3.0, 4.0])\n",
    "print(f'gradient_descent(function_2, init_x=init_x, lr=1e-10, step_num=100) {gradient_descent(function_2, init_x=init_x, lr=1e-10, step_num=100)}')\n"
   ]
  },
  {
   "cell_type": "markdown",
   "metadata": {},
   "source": [
    "Gradient of a neural network    \n",
    "To find the best weights of neural network, we need a loss function, so solve a loss function, we need calculate graident.    \n",
    "$$ \n",
    "W = \n",
    "\\begin{pmatrix}\n",
    "w_{11} & w_{12} & w_{13} \\\\\n",
    "w_{21} & w_{22} & w_{23} \\\\\n",
    "\\end{pmatrix}\n",
    " $$\n",
    "$$ \n",
    "\\frac{\\partial L}{\\partial W} = \n",
    "\\begin{pmatrix}\n",
    "\\frac{\\partial L}{\\partial w_{11}} & \\frac{\\partial L}{\\partial w_{12}} & \\frac{\\partial L}{\\partial w_{13}} \\\\\n",
    "\\frac{\\partial L}{\\partial w_{21}} & \\frac{\\partial L}{\\partial w_{22}} & \\frac{\\partial L}{\\partial w_{23}} \\\\\n",
    "\\end{pmatrix}\n",
    " $$\n",
    "\n",
    " ![dot product of a neural networks](./figures/dlscratch_nndot.png)    \n"
   ]
  },
  {
   "cell_type": "code",
   "execution_count": 86,
   "metadata": {},
   "outputs": [
    {
     "name": "stdout",
     "output_type": "stream",
     "text": [
      "weights: \n",
      "[[ 0.29112548  0.17544122  0.78346029]\n",
      " [-0.42122279 -1.83806798 -0.93167024]]\n",
      "prediction: [-0.20442522 -1.54899645 -0.36842704]\n",
      "argmax: 0\n",
      "label:[0 0 1]\n",
      "loss: 0.9104012868710342\n",
      "numerical_gradient of weights:\n",
      "[[ 0.28444209  0.07414024 -0.35858233]\n",
      " [ 0.42666314  0.11121036 -0.5378735 ]]\n"
     ]
    }
   ],
   "source": [
    "# implement a simple net as figure above\n",
    "import numpy as np\n",
    "\n",
    "def softmax(x):\n",
    "    x = x - np.max(x, axis=-1, keepdims=True)\n",
    "    return np.exp(x) / np.sum(np.exp(x), axis=-1, keepdims=True)\n",
    "\n",
    "def cross_entropy_error(y, t):\n",
    "    if y.ndim == 1:\n",
    "        t = t.reshape(1, t.size)\n",
    "        y = y.reshape(1, y.size)\n",
    "\n",
    "    # If the training data is one-hot vector, convert it to the index of the correct label    \n",
    "    if t.size == y.size:\n",
    "        t = t.argmax(axis=1)\n",
    "\n",
    "    batch_size = y.shape[0]\n",
    "    return -np.sum(np.log(y[np.arange(batch_size), t] + 1e-7)) / batch_size\n",
    "\n",
    "\n",
    "def numerical_gradient(f, X):\n",
    "    if X.ndim == 1:\n",
    "        return _numerical_gradient_no_batch(f, X)\n",
    "    else:\n",
    "        grad = np.zeros_like(X)\n",
    "        \n",
    "        for idx, x in enumerate(X):\n",
    "            grad[idx] = _numerical_gradient_no_batch(f, x)\n",
    "        \n",
    "        return grad\n",
    "\n",
    "def numerical_gradient(f, x):\n",
    "    h = 1e-4 # 0.0001\n",
    "    grad = np.zeros_like(x)\n",
    "\n",
    "    it = np.nditer(x, flags=['multi_index'], op_flags=['readwrite'])\n",
    "    while not it.finished:\n",
    "        idx = it.multi_index\n",
    "        tmp_val = x[idx]\n",
    "        x[idx] = tmp_val + h\n",
    "        fxh1 = f(x) # f(x+h)\n",
    "\n",
    "        x[idx] = tmp_val - h\n",
    "        fxh2 = f(x) # f(x-h)\n",
    "        grad[idx] = (fxh1 - fxh2) / (2*h)\n",
    "\n",
    "        x[idx] = tmp_val # restore the value\n",
    "        it.iternext()\n",
    "\n",
    "    return grad\n",
    "\n",
    "class simpleNet:\n",
    "    def __init__(self):\n",
    "        self.W = np.random.randn(2,3) # randomly generate 6 weights\n",
    "\n",
    "    def predict(self, x):\n",
    "        return np.dot(x, self.W)\n",
    "\n",
    "    def loss(self, x, t):\n",
    "        z = self.predict(x)\n",
    "        y = softmax(z)\n",
    "        loss = cross_entropy_error(y, t)\n",
    "\n",
    "        return loss\n",
    "\n",
    "x = np.array([0.6, 0.9]) # input\n",
    "t = np.array([0, 0, 1])  # label\n",
    "\n",
    "net = simpleNet()\n",
    "print(f'weights: \\n{(net.W)}')\n",
    "p = net.predict(x)\n",
    "print(f'prediction: {p}\\nargmax: {np.argmax(p)}')\n",
    "print(f'label:{t}')\n",
    "print(f'loss: {net.loss(x, t)}')\n",
    "f = lambda w: net.loss(x, t) # define a lambda function called f, return loss value, instead of def f():...\n",
    "dW = numerical_gradient(f, net.W)\n",
    "\n",
    "print(f'numerical_gradient of weights:\\n{dW}')\n",
    "\n",
    "# from result of numerical_gradient of weights, 0.4266314 means the weight should update as negative direction;\n",
    "# -0.5378735 means the weight shoud update as positive direction, and it has more contribution than 0.4266314,"
   ]
  },
  {
   "cell_type": "markdown",
   "metadata": {},
   "source": [
    "### Steps for implementing a neural network\n",
    "1. **mini-batch**: randomly select a batch data to train, the goal is to reduce the loss value from these batch data.    \n",
    "2. **gradient**: calculate graident, the goal is to reduce the loss value.    \n",
    "3. **update weights**: update weights along the direction of gradient descent.\n",
    "4. Repeat the above steps.\n"
   ]
  },
  {
   "cell_type": "code",
   "execution_count": 94,
   "metadata": {},
   "outputs": [],
   "source": [
    "import numpy as np\n",
    "\n",
    "def sigmoid(x):\n",
    "    return 1 / (1 + np.exp(-x)) \n",
    "def sigmoid_grad(x):\n",
    "    return (1.0 - sigmoid(x)) * sigmoid(x)\n",
    "def softmax(x):\n",
    "    x = x - np.max(x, axis=-1, keepdims=True)\n",
    "    return np.exp(x) / np.sum(np.exp(x), axis=-1, keepdims=True)\n",
    "def cross_entropy_error(y, t):\n",
    "    if y.ndim == 1:\n",
    "        t = t.reshape(1, t.size)\n",
    "        y = y.reshape(1, y.size)\n",
    "        \n",
    "    if t.size == y.size:\n",
    "        t = t.argmax(axis=1)\n",
    "             \n",
    "    batch_size = y.shape[0]\n",
    "    return -np.sum(np.log(y[np.arange(batch_size), t] + 1e-7)) / batch_size\n",
    "\n",
    "def numerical_gradient(f, x):\n",
    "    h = 1e-4 # 0.0001\n",
    "    grad = np.zeros_like(x)\n",
    "    \n",
    "    it = np.nditer(x, flags=['multi_index'], op_flags=['readwrite'])\n",
    "    while not it.finished:\n",
    "        idx = it.multi_index\n",
    "        tmp_val = x[idx]\n",
    "        x[idx] = tmp_val + h\n",
    "        fxh1 = f(x) # f(x+h)\n",
    "        \n",
    "        x[idx] = tmp_val - h \n",
    "        fxh2 = f(x) # f(x-h)\n",
    "        grad[idx] = (fxh1 - fxh2) / (2*h)\n",
    "        \n",
    "        x[idx] = tmp_val\n",
    "        it.iternext()   \n",
    "        \n",
    "    return grad\n",
    "\n",
    "class TwoLayerNet:\n",
    "    ''' \n",
    "    variables: params(weights); grads\n",
    "    functions: __init__(self,input_size, hidden_size, output_size)\n",
    "    predict(self, x)\n",
    "    accuracy(self, x, t)\n",
    "    loss(self, x, t)\n",
    "    numerical_gradient(self, x, t)\n",
    "    '''\n",
    "    def __init__(self, input_size, hidden_size, output_size, weight_init_std=0.01):\n",
    "        # initionalize weights\n",
    "        self.params = {}\n",
    "        self.params['W1'] = weight_init_std * np.random.randn(input_size, hidden_size)\n",
    "        self.params['b1'] = np.zeros(hidden_size)\n",
    "        self.params['W2'] = weight_init_std * np.random.randn(hidden_size, output_size)\n",
    "        self.params['b2'] = np.zeros(output_size)\n",
    "\n",
    "    def predict(self, x):\n",
    "        W1, W2 = self.params['W1'], self.params['W2']\n",
    "        b1, b2 = self.params['b1'], self.params['b2']\n",
    "    \n",
    "        a1 = np.dot(x, W1) + b1\n",
    "        z1 = sigmoid(a1)\n",
    "        a2 = np.dot(z1, W2) + b2\n",
    "        y = softmax(a2)\n",
    "        \n",
    "        return y\n",
    "        \n",
    "    def loss(self, x, t):\n",
    "        y = self.predict(x)\n",
    "        \n",
    "        return cross_entropy_error(y, t)\n",
    "    \n",
    "    def accuracy(self, x, t):\n",
    "        y = self.predict(x)\n",
    "        y = np.argmax(y, axis=1)\n",
    "        t = np.argmax(t, axis=1)\n",
    "        \n",
    "        accuracy = np.sum(y == t) / float(x.shape[0])\n",
    "        return accuracy\n",
    "        \n",
    "    def compute_numerical_gradient(self, x, t):\n",
    "        loss_W = lambda W: self.loss(x, t)\n",
    "        \n",
    "        grads = {}\n",
    "        grads['W1'] = numerical_gradient(loss_W, self.params['W1'])\n",
    "        grads['b1'] = numerical_gradient(loss_W, self.params['b1'])\n",
    "        grads['W2'] = numerical_gradient(loss_W, self.params['W2'])\n",
    "        grads['b2'] = numerical_gradient(loss_W, self.params['b2'])\n",
    "        \n",
    "        return grads"
   ]
  },
  {
   "cell_type": "code",
   "execution_count": 95,
   "metadata": {},
   "outputs": [
    {
     "name": "stdout",
     "output_type": "stream",
     "text": [
      "Epoch 1/1 - train acc: 0.1044, test acc: 0.1028\n"
     ]
    },
    {
     "data": {
      "image/png": "[encoded data removed]",
      "text/plain": [
       "<Figure size 640x480 with 1 Axes>"
      ]
     },
     "metadata": {},
     "output_type": "display_data"
    }
   ],
   "source": [
    "import numpy as np\n",
    "import matplotlib.pyplot as plt\n",
    "from dataset.mnist import load_mnist\n",
    "\n",
    "# Load MNIST data\n",
    "(x_train, t_train), (x_test, t_test) = load_mnist(normalize=True, one_hot_label=True)\n",
    "\n",
    "# Initialize the network\n",
    "network = TwoLayerNet(input_size=784, hidden_size=50, output_size=10)\n",
    "\n",
    "# Hyperparameters\n",
    "epochs = 1  # Set the number of epochs\n",
    "train_size = x_train.shape[0] - 59000  # Training set size (1000 samples)\n",
    "batch_size = 100  # batch size\n",
    "learning_rate = 0.1\n",
    "\n",
    "# Initialize lists to store training results\n",
    "train_loss_list = []\n",
    "train_acc_list = []\n",
    "test_acc_list = []\n",
    "\n",
    "iter_per_epoch = train_size // batch_size\n",
    "\n",
    "# Training loop\n",
    "# one epoch trains all training data\n",
    "for epoch in range(epochs):\n",
    "    # one iteration trains a batch data\n",
    "    for i in range(iter_per_epoch):\n",
    "        # Select a random mini-batch\n",
    "        batch_mask = np.random.choice(train_size, batch_size)\n",
    "        x_batch = x_train[batch_mask]\n",
    "        t_batch = t_train[batch_mask]\n",
    "        \n",
    "        # Calculate the gradient\n",
    "        grad = network.compute_numerical_gradient(x_batch, t_batch)\n",
    "        \n",
    "        # Update the parameters\n",
    "        for key in ('W1', 'b1', 'W2', 'b2'):\n",
    "            network.params[key] -= learning_rate * grad[key]\n",
    "        \n",
    "        # Calculate the loss for the current batch\n",
    "        loss = network.loss(x_batch, t_batch)\n",
    "        train_loss_list.append(loss)\n",
    "    \n",
    "    # At the end of each epoch, calculate and record the training and testing accuracy\n",
    "    train_acc = network.accuracy(x_train, t_train)\n",
    "    test_acc = network.accuracy(x_test, t_test)\n",
    "    train_acc_list.append(train_acc)\n",
    "    test_acc_list.append(test_acc)\n",
    "    print(f\"Epoch {epoch+1}/{epochs} - train acc: {train_acc:.4f}, test acc: {test_acc:.4f}\")\n",
    "\n",
    "# Visualize the results\n",
    "plt.plot(np.arange(epochs), train_acc_list, label='train acc', marker='o')\n",
    "plt.plot(np.arange(epochs), test_acc_list, label='test acc', linestyle='--', marker='s')\n",
    "plt.xlabel(\"epochs\")\n",
    "plt.ylabel(\"accuracy\")\n",
    "plt.ylim(0, 1.0)\n",
    "plt.legend(loc='lower right')\n",
    "plt.show()\n",
    "# Guess why I only run one epoch? -- Because it's too slow!"
   ]
  },
  {
   "cell_type": "markdown",
   "metadata": {},
   "source": [
    "## Back propagation"
   ]
  },
  {
   "cell_type": "markdown",
   "metadata": {},
   "source": [
    "### Computational graph\n",
    "![Computational graph](./figures/dlscratch_computegraph.png)    \n",
    "The total consumption is calculated from left to right, this process is called **forward propagation**, correspondingly, there is **back propagation**, which is used in *derivative computation*."
   ]
  },
  {
   "cell_type": "markdown",
   "metadata": {},
   "source": [
    "### Chain rule\n",
    "* Chain rule is used to calculate derivative of functions.\n",
    "* Chain rule is used in **Composite Functions**, for example: $$z=t^2\\\\ t=x+y$$\n",
    "* The derivative of composite functions can be presented as the product of the derivatives of each function, for example: $$\\frac{\\partial z}{\\partial x} = \\frac{\\partial z}{\\partial t}\\frac{\\partial t}{\\partial x}$$\n",
    "\n",
    "Therefore, $\\frac{\\partial z}{\\partial t}=2t$, $\\frac{\\partial t}{\\partial x}=1$ (analytic derivative)\n",
    "$$\\frac{\\partial z}{\\partial x} = \\frac{\\partial z}{\\partial t}\\frac{\\partial t}{\\partial x}=2t\\cdot 1=2(x+y)$$\n",
    "\n",
    "The chain rule is shown as computational graph:    \n",
    "![chain rule in computational graph](./figures/dlscratch_computegraphchainrule.png) ![chain rule in computational graph](./figures/dlscratch_computegraphchainrule1.png)"
   ]
  },
  {
   "cell_type": "markdown",
   "metadata": {},
   "source": [
    "### Back propagation"
   ]
  },
  {
   "cell_type": "markdown",
   "metadata": {},
   "source": [
    "* Back propagation of Addition Nodes    \n",
    "Take $z=x+y$ as an example, the analytic derivatives of $x$ and $y$ are: \n",
    "$$\\frac{\\partial z}{\\partial x} = 1\\\\ \\frac{\\partial z}{\\partial y} = 1$$\n",
    "The computational graph of *addition* is as follows:    \n",
    "![Addition nodes](./figures/dlscratch_computegraphchainruleadd.png)"
   ]
  },
  {
   "cell_type": "markdown",
   "metadata": {},
   "source": [
    "* Back propagation of Multiplication Nodes\n",
    "Take $z=xy$ as an example, the analytic derivatives of $x$ and $y$ are: \n",
    "$$\\frac{\\partial z}{\\partial x} = y\\\\ \\frac{\\partial z}{\\partial y} = x$$\n",
    "The computational graph of *multiplication* is as follows:    \n",
    "![Product nodes](./figures/dlscratch_computegraphchainruleproduct.png)"
   ]
  },
  {
   "cell_type": "markdown",
   "metadata": {},
   "source": [
    "### Implemention of a simplelayer\n",
    "![computegraph](./figures/dlscratch_computegraphapple.png)"
   ]
  },
  {
   "cell_type": "code",
   "execution_count": 77,
   "metadata": {},
   "outputs": [
    {
     "name": "stdout",
     "output_type": "stream",
     "text": [
      "intial state:  apple price: 100, number of apples: 2, tax rate of an apple: 1.1\n",
      "\n",
      "forward propagation:\n",
      "\n",
      "price of apples before tax: 200\n",
      "price of apples after tax: 220\n",
      "\n",
      "back propagation:\n",
      "\n",
      "influence of changement of price, number and tax on total price:\n",
      "when tax rate increases 1,    you will pay more 200\n",
      "when # of apples increase 1,  you will pay more 110\n",
      "when apple price increases 1, you will pay more 2.2\n"
     ]
    }
   ],
   "source": [
    "# multiply layer and add layer\n",
    "# an example of buying apples: \n",
    "# input: number of apples, unit price of an apple, tax of apples.\n",
    "# output: total price a customer needs to pay. (forward propagation process)\n",
    "# gradient of input variables, gradient of output. (back propagation process)\n",
    "class AddLayer:\n",
    "    def __init__(self):\n",
    "        pass\n",
    "    def forward(self, x, y):\n",
    "        out = x + y\n",
    "        return out\n",
    "    def backward(self, dout):\n",
    "        dx = dout * 1\n",
    "        dy = dout * 1\n",
    "        return dx, dy\n",
    "\n",
    "class MulLayer:\n",
    "    def __init__(self):\n",
    "        self.x = None\n",
    "        self.y = None\n",
    "    def forward(self, x, y):\n",
    "        self.x = x\n",
    "        self.y = y\n",
    "        out = x * y\n",
    "        return out\n",
    "    def backward(self, dout):\n",
    "        dx = dout * self.y\n",
    "        dy = dout * self.x\n",
    "        #print(self.x, self.y)\n",
    "        return dx, dy\n",
    "\n",
    "apple_pri = 100\n",
    "apple_num = 2\n",
    "tax = 1.1\n",
    "print(f'intial state:  apple price: {apple_pri}, number of apples: {apple_num}, tax rate of an apple: {tax}\\n')\n",
    "\n",
    "mul_apple_layer = MulLayer()\n",
    "mul_tax_layer = MulLayer()\n",
    "\n",
    "# forward\n",
    "print('forward propagation:\\n')\n",
    "price_notax = mul_apple_layer.forward(apple_pri, apple_num) # Calculate the total price excluding tax\n",
    "price_tax = mul_tax_layer.forward(price_notax, tax)         # Calculate the total price including tax\n",
    "print(f\"price of apples before tax: {int(price_notax)}\\nprice of apples after tax: {int(price_tax)}\")\n",
    "\n",
    "# backward\n",
    "print('\\nback propagation:\\n')\n",
    "d_price = 1 # Changes in prices, quantities, and tax rates\n",
    "dapple_price, dtax = mul_tax_layer.backward(d_price) # dapple_price, dtax are middel gradients\n",
    "dapple, dapple_num = mul_apple_layer.backward(dapple_price) # chain rule is used\n",
    "print(f'influence of changement of price, number and tax on total price:')\n",
    "print(f'when tax rate increases {d_price},    you will pay more {dtax}')\n",
    "print(f'when # of apples increase {d_price},  you will pay more {int(dapple_num)}')\n",
    "print(f'when apple price increases {d_price}, you will pay more {dapple}')"
   ]
  },
  {
   "cell_type": "code",
   "execution_count": 88,
   "metadata": {},
   "outputs": [
    {
     "name": "stdout",
     "output_type": "stream",
     "text": [
      "intial state:  apple price: 100, number of apples: 2, orange price: 150, number of oranges: 3, tax rate of an apple: 1.1\n",
      "\n",
      "forward propagation:\n",
      "\n",
      "before tax: price of apples 200 orange_price 450 all_price 650  after tax: total price: 715\n",
      "\n",
      "back propagation:\n",
      "\n",
      "influence of changement of price, number and tax on total price:\n",
      "when tax rate increases 1,    you will pay more 650\n",
      "when # of apples increase 1,  you will pay more 110\n",
      "when # of oranges increase 1,  you will pay more 165\n",
      "when apple price increases 1, you will pay more 2.2\n",
      "when orange price increases 1, you will pay more 3.3000000000000003\n"
     ]
    }
   ],
   "source": [
    "# add one mor fruit -- oranges\n",
    "apple = 100\n",
    "apple_num = 2\n",
    "orange = 150\n",
    "orange_num = 3\n",
    "tax = 1.1\n",
    "print(f'intial state:  apple price: {apple}, number of apples: {apple_num}, orange price: {orange}, number of oranges: {orange_num}, tax rate of an apple: {tax}\\n')\n",
    "\n",
    "# layer\n",
    "mul_apple_layer = MulLayer()\n",
    "mul_orange_layer = MulLayer()\n",
    "add_apple_orange_layer = AddLayer()\n",
    "mul_tax_layer = MulLayer()\n",
    "\n",
    "# forward\n",
    "print('forward propagation:\\n')\n",
    "apple_price = mul_apple_layer.forward(apple, apple_num)  # (1)\n",
    "orange_price = mul_orange_layer.forward(orange, orange_num)  # (2)\n",
    "all_price = add_apple_orange_layer.forward(apple_price, orange_price)  # (3)\n",
    "price = mul_tax_layer.forward(all_price, tax)  # (4)\n",
    "print(f\"before tax: price of apples {int(apple_price)} orange_price {orange_price} all_price {all_price}  after tax: total price: {int(price)}\")\n",
    "\n",
    "# backward\n",
    "print('\\nback propagation:\\n')\n",
    "dprice = 1\n",
    "dall_price, dtax = mul_tax_layer.backward(dprice)  # (4)\n",
    "dapple_price, dorange_price = add_apple_orange_layer.backward(dall_price)  # (3)\n",
    "dorange, dorange_num = mul_orange_layer.backward(dorange_price)  # (2)\n",
    "dapple, dapple_num = mul_apple_layer.backward(dapple_price)  # (1)\n",
    "\n",
    "print(f'influence of changement of price, number and tax on total price:')\n",
    "print(f'when tax rate increases {d_price},    you will pay more {dtax}')\n",
    "print(f'when # of apples increase {d_price},  you will pay more {int(dapple_num)}')\n",
    "print(f'when # of oranges increase {d_price},  you will pay more {int(dorange_num)}')\n",
    "print(f'when apple price increases {d_price}, you will pay more {dapple}')\n",
    "print(f'when orange price increases {d_price}, you will pay more {dorange}')"
   ]
  },
  {
   "cell_type": "markdown",
   "metadata": {},
   "source": [
    "### Activation function in back propagation\n",
    "Why need activation function, after back propagation (calculating gradient/derivative process), you may be clear. If no activation function:    \n",
    "1. Linear superposition: The output of each layer is the product of the input and the weight matrix plus the bias. Since there is no activation function to introduce nonlinearity, the output of the entire network will only be a series of linear transformations of the input.\n",
    "2. Gradient vanishing or exploding: In a multi-layer network, if each layer is linear, the gradients are continuously multiplied during back propagation. If the norm of the weight matrix is ​​greater than 1, the gradient may grow exponentially (gradient explosion), while if the norm of the weight matrix is ​​less than 1, the gradient may decay exponentially (gradient vanishing). This makes weight updates very difficult, thus hindering the training of deep networks.\n",
    "3. Gradient Constant: In the absence of an activation function, the gradient of each layer will be constant because the derivative of a linear layer is a constant. This means that the gradient will not change as the depth of the network increases, but it also means that the gradients cannot be propagated effectively because they will not be adjusted for different layers of the network.\n",
    "4. Lack of feature learning ability: Activation functions usually help the network learn useful feature representations from the input data. Without activation functions, the network will not be able to do this feature learning because it can only perform simple linear transformations."
   ]
  },
  {
   "cell_type": "markdown",
   "metadata": {},
   "source": [
    "ReLU and Sigmoid    \n",
    "* ReLU（Rectified Linear Unit)    \n",
    "$$\n",
    "y = \n",
    "\\begin{cases} \n",
    "x & (x > 0), \\\\\n",
    "0 & (x \\leq 0).\n",
    "\\end{cases}\n",
    "$$\n",
    "the analytic derivative:\n",
    "$$\n",
    "\\frac{\\partial y}{\\partial x} = \n",
    "\\begin{cases} \n",
    "1 & (x > 0), \\\\\n",
    "0 & (x \\leq 0).\n",
    "\\end{cases}\n",
    "$$\n",
    "computational graph of ReLU function    \n",
    "![computational graph](./figures/dlscratch_computegraphrelu.png)\n",
    "\n",
    "* Sigmoid:    \n",
    "$$y=\\frac{1}{1+\\exp(-x)}$$\n",
    "the analytic derivative:\n",
    "$$\\frac{\\partial y}{\\partial x} = y(1-y)$$\n",
    "computational graph of Sigmoid function, a bit complicated, let's first look at forward progation, which is easy to understand    \n",
    "![computational graph of sigmoid](./figures/dlscratch_computegraphsigmoid.png)    \n",
    "computational graph of Sigmoid function in back propagation, difficult to understand unless some analytic derivative is recalled     \n",
    "![computational graph of sigmoid](./figures/dlscratch_computegraphsigmoidback.png)    \n",
    "1. '/' means $y=\\frac{1}{x}$, so its analytic derivative is: $\\frac{\\partial y}{\\partial x}=-\\frac{1}{x^2}=-y^2$\n",
    "2. '+' will keep unchanged (e.g. $z=x+y$)\n",
    "3. 'exp' means $y=e^x$, so its analytic derivative is still: $\\frac{\\partial y}{\\partial x}=e^x \\text{or} \\exp (x)$, in this case, $\\exp (-x)$\n",
    "4. '×' will exchange the variable (e.g. $z=xy$), so here multiply by -1\n",
    "\n",
    "Simplified version    \n",
    "![computational graph of sigmoid](./figures/dlscratch_computegraphsigmoidbacksimple.png)  ![computational graph of sigmoid](./figures/dlscratch_computegraphsigmoidbacksimple1.png)    \n",
    "Because Sigmoid function is $y = \\frac{1}{1+\\exp(-x)}$, so the final formula is shown as follow:\n",
    "$$\\frac{\\partial L}{\\partial y} y^2 \\exp(-x) \n",
    "= \\frac{\\partial L}{\\partial y} \\frac{1}{(1 + \\exp(-x))^2} \\exp(-x) \n",
    "= \\frac{\\partial L}{\\partial y} \\frac{1}{1 + \\exp(-x)} \\frac{\\exp(-x)}{1 + \\exp(-x)} \n",
    "= \\frac{\\partial L}{\\partial y} y(1-y)\n",
    "$$\n",
    "* The above formula is the Derivative of loss function $L$ with respect to $y$ and The derivative of the activation function $y$ with respect to the input $x$\n",
    "* Intuitively, the derivative of the sigmoid function tells us that when the input $x$ is very large or very small, the derivative becomes very small (the gradient vanishing problem), and when the input $x$ is close to 0, the derivative is the largest, which helps the model update the weights during training."
   ]
  },
  {
   "cell_type": "code",
   "execution_count": 89,
   "metadata": {},
   "outputs": [],
   "source": [
    "import numpy as np\n",
    "\n",
    "class Relu:\n",
    "    def __init__(self):\n",
    "        self.out = None  # save output of forward\n",
    "    def forward(self, x):\n",
    "        self.out = np.maximum(0, x)\n",
    "        return self.out\n",
    "    def backward(self, dout):\n",
    "        dx = dout * (self.out > 0)\n",
    "        return dx\n",
    "\n",
    "class Sigmoid:\n",
    "    def __init__(self):\n",
    "        self.out = None\n",
    "    def sigmoid(x):\n",
    "        return 1 / (1 + np.exp(-x))\n",
    "    def forward(self, x):\n",
    "        out = sigmoid(x)\n",
    "        self.out = out\n",
    "        return out\n",
    "    def backward(self, dout):\n",
    "        # output*y*(1-y)\n",
    "        dx = dout * self.out * (1.0 - self.out)\n",
    "        return dx"
   ]
  },
  {
   "cell_type": "markdown",
   "metadata": {},
   "source": [
    "Softmax with loss    \n",
    "The derivative after back propagation of cross entropy loss and softmax function look beautiful, clean, and very intuitive (shows difference bewteen output and label), why?    \n",
    "![crossentropylayer](./figures/dlscratch_computegraphcrossentropy.png)    \n",
    "Beause:    \n",
    "* Softmax function $y_i=\\frac{\\exp(a_i)}{\\sum_j\\exp(a_j)}$, derivative is $\\frac{\\partial y_i}{\\partial a_i}=y_i(1-y_i)$\n",
    "* Cross entropy loss $L = -\\sum_i t_i\\log(y_i)$, derivative is $\\frac{\\partial L}{\\partial y_i}=-\\frac{t_i}{y_i}$\n",
    "* Derivative of L and Softmax: $\\frac{\\partial L}{\\partial a_i}=\\frac{\\partial L}{\\partial y_i}\\cdot\\frac{\\partial y_i}{\\partial a_i}=-\\frac{t_i}{y_i}\\cdot y_i(1-y_i) = y_i-t_i $\n",
    "\n",
    "Similary, mean square error loss e $L = \\sum_i(t_i-y_i)^2$, derivative is $\\frac{\\partial L}{\\partial y_i}=2(y_i-t_i)$"
   ]
  },
  {
   "cell_type": "markdown",
   "metadata": {},
   "source": [
    "### Affine transformation\n",
    "An affine layer is actually a **matrix** of input, weights and bias, nothing new.    \n",
    "The computational graph below is a batch based affine layer, just to remind that the layer is storing the matrix, not the single elements.    \n",
    "Many layers in the deep learning library are implemented based on the principle of affine transformation.   \n",
    "![affinebatch](./figures/dlscratch_computegraphaffinebatch.png)    \n",
    "So far, we can have a simple network shown as below, affine layer, activation function layer, output layer etc:    \n",
    "![a simple networkr](./figures/dlscratch_softmaxlayer.png)    "
   ]
  },
  {
   "cell_type": "markdown",
   "metadata": {},
   "source": [
    "### TwoLayerNet case"
   ]
  },
  {
   "cell_type": "code",
   "execution_count": 5,
   "metadata": {},
   "outputs": [],
   "source": [
    "import numpy as np\n",
    "from collections import OrderedDict\n",
    "\n",
    "class Affine:\n",
    "    def __init__(self, W, b):\n",
    "        self.W =W\n",
    "        self.b = b\n",
    "        \n",
    "        self.x = None\n",
    "        self.original_x_shape = None\n",
    "        # Derivatives of weight and bias parameters\n",
    "        self.dW = None\n",
    "        self.db = None\n",
    "\n",
    "    def forward(self, x):\n",
    "        # Tensor support\n",
    "        self.original_x_shape = x.shape\n",
    "        x = x.reshape(x.shape[0], -1)\n",
    "        self.x = x\n",
    "\n",
    "        out = np.dot(self.x, self.W) + self.b # out=x⋅W+b\n",
    "\n",
    "        return out\n",
    "\n",
    "    def backward(self, dout):\n",
    "        dx = np.dot(dout, self.W.T)\n",
    "        self.dW = np.dot(self.x.T, dout)\n",
    "        self.db = np.sum(dout, axis=0) # out = wx+b, biases have same influence on all x\n",
    "        \n",
    "        dx = dx.reshape(*self.original_x_shape) # Reshape input data (tensor compatible)\n",
    "        return dx\n",
    "    \n",
    "class SoftmaxWithLoss:\n",
    "    def __init__(self):\n",
    "        self.loss = None\n",
    "        self.y = None # Softmax output\n",
    "        self.t = None # labeled data\n",
    "\n",
    "    def forward(self, x, t):\n",
    "        self.t = t\n",
    "        self.y = softmax(x)\n",
    "        self.loss = cross_entropy_error(self.y, self.t)\n",
    "        \n",
    "        return self.loss\n",
    "\n",
    "    def backward(self, dout=1):\n",
    "        batch_size = self.t.shape[0]\n",
    "        # When the label is one-hot vector\n",
    "        if self.t.size == self.y.size: \n",
    "            dx = (self.y - self.t) / batch_size # y-t\n",
    "        # when the label is integer\n",
    "        else:\n",
    "            dx = self.y.copy() # y not change\n",
    "            dx[np.arange(batch_size), self.t] -= 1 # y-t, in this case, the true label t=1\n",
    "            dx = dx / batch_size\n",
    "        \n",
    "        return dx\n",
    "\n",
    "def softmax(x):\n",
    "    x = x - np.max(x, axis=-1, keepdims=True)\n",
    "    return np.exp(x) / np.sum(np.exp(x), axis=-1, keepdims=True)\n",
    "\n",
    "def cross_entropy_error(y, t):\n",
    "    if y.ndim == 1:\n",
    "        t = t.reshape(1, t.size)\n",
    "        y = y.reshape(1, y.size)\n",
    "\n",
    "    # If the training data is one-hot vector, convert it to the index of the correct label    \n",
    "    if t.size == y.size:\n",
    "        t = t.argmax(axis=1)\n",
    "\n",
    "    batch_size = y.shape[0]\n",
    "    return -np.sum(np.log(y[np.arange(batch_size), t] + 1e-7)) / batch_size\n",
    "\n",
    "def numerical_gradient(f, x):\n",
    "    h = 1e-4 # 0.0001\n",
    "    grad = np.zeros_like(x)\n",
    "    \n",
    "    it = np.nditer(x, flags=['multi_index'], op_flags=['readwrite'])\n",
    "    while not it.finished:\n",
    "        idx = it.multi_index\n",
    "        tmp_val = x[idx]\n",
    "        x[idx] = tmp_val + h\n",
    "        fxh1 = f(x) # f(x+h)\n",
    "        \n",
    "        x[idx] = tmp_val - h \n",
    "        fxh2 = f(x) # f(x-h)\n",
    "        grad[idx] = (fxh1 - fxh2) / (2*h)\n",
    "        \n",
    "        x[idx] = tmp_val\n",
    "        it.iternext()   \n",
    "        \n",
    "    return grad\n",
    "\n",
    "class Relu:\n",
    "    def __init__(self):\n",
    "        self.out = None  # save output of forward\n",
    "    def forward(self, x):\n",
    "        self.out = np.maximum(0, x)\n",
    "        return self.out\n",
    "    def backward(self, dout):\n",
    "        dx = dout * (self.out > 0)\n",
    "        return dx\n",
    "\n",
    "class TwoLayerNet:\n",
    "    def __init__(self, input_size, hidden_size, output_size, weight_init_std = 0.01):\n",
    "        # initionalize weights\n",
    "        self.params = {}\n",
    "        self.params['W1'] = weight_init_std * np.random.randn(input_size, hidden_size)\n",
    "        self.params['b1'] = np.zeros(hidden_size)\n",
    "        self.params['W2'] = weight_init_std * np.random.randn(hidden_size, output_size) \n",
    "        self.params['b2'] = np.zeros(output_size)\n",
    "\n",
    "        # Creating layers\n",
    "        self.layers = OrderedDict()\n",
    "        self.layers['Affine1'] = Affine(self.params['W1'], self.params['b1'])\n",
    "        self.layers['Relu1'] = Relu()\n",
    "        self.layers['Affine2'] = Affine(self.params['W2'], self.params['b2'])\n",
    "\n",
    "        self.lossLayer = SoftmaxWithLoss()\n",
    "        \n",
    "    def predict(self, x):\n",
    "        for layer in self.layers.values():\n",
    "            x = layer.forward(x)\n",
    "        \n",
    "        return x\n",
    "        \n",
    "    def loss(self, x, t):\n",
    "        y = self.predict(x)\n",
    "        return self.lossLayer.forward(y, t)\n",
    "    \n",
    "    def accuracy(self, x, t):\n",
    "        y = self.predict(x)\n",
    "        y = np.argmax(y, axis=1)\n",
    "        if t.ndim != 1 : t = np.argmax(t, axis=1)\n",
    "        \n",
    "        accuracy = np.sum(y == t) / float(x.shape[0])\n",
    "        return accuracy\n",
    "        \n",
    "    def compute_numerical_gradient(self, x, t):\n",
    "        # forward\n",
    "        loss_W = lambda W: self.loss(x, t)\n",
    "        \n",
    "        grads = {}\n",
    "        grads['W1'] = numerical_gradient(loss_W, self.params['W1'])\n",
    "        grads['b1'] = numerical_gradient(loss_W, self.params['b1'])\n",
    "        grads['W2'] = numerical_gradient(loss_W, self.params['W2'])\n",
    "        grads['b2'] = numerical_gradient(loss_W, self.params['b2'])\n",
    "        \n",
    "        return grads\n",
    "        \n",
    "    def backward_gradient(self, x, t):\n",
    "        # forward\n",
    "        y = self.predict(x)\n",
    "        self.lossLayer.forward(y, t) # loss value is stored\n",
    "        \n",
    "        # backward\n",
    "        dout = 1 # inital gradient of loss\n",
    "        dout = self.lossLayer.backward(dout)\n",
    "        \n",
    "        layers = list(self.layers.values())\n",
    "        layers.reverse() # back propagation start from last layer\n",
    "        for layer in layers:\n",
    "            dout = layer.backward(dout)\n",
    "\n",
    "        grads = {}\n",
    "        grads['W1'], grads['b1'] = self.layers['Affine1'].dW, self.layers['Affine1'].db\n",
    "        grads['W2'], grads['b2'] = self.layers['Affine2'].dW, self.layers['Affine2'].db\n",
    "\n",
    "        return grads"
   ]
  },
  {
   "cell_type": "code",
   "execution_count": 6,
   "metadata": {},
   "outputs": [
    {
     "name": "stdout",
     "output_type": "stream",
     "text": [
      "Epoch 1/10 - train acc: 0.1988, test acc: 0.2030\n",
      "Epoch 2/10 - train acc: 0.1126, test acc: 0.1139\n",
      "Epoch 3/10 - train acc: 0.3293, test acc: 0.3260\n",
      "Epoch 4/10 - train acc: 0.4533, test acc: 0.4442\n",
      "Epoch 5/10 - train acc: 0.5738, test acc: 0.5800\n",
      "Epoch 6/10 - train acc: 0.5425, test acc: 0.5475\n",
      "Epoch 7/10 - train acc: 0.5732, test acc: 0.5756\n",
      "Epoch 8/10 - train acc: 0.5913, test acc: 0.5891\n",
      "Epoch 9/10 - train acc: 0.6685, test acc: 0.6704\n",
      "Epoch 10/10 - train acc: 0.7092, test acc: 0.7108\n"
     ]
    },
    {
     "data": {
      "image/png": "[encoded data removed]",
      "text/plain": [
       "<Figure size 640x480 with 1 Axes>"
      ]
     },
     "metadata": {},
     "output_type": "display_data"
    }
   ],
   "source": [
    "# train model\n",
    "\n",
    "import numpy as np\n",
    "import matplotlib.pyplot as plt\n",
    "from dataset.mnist import load_mnist\n",
    "\n",
    "# Load MNIST data\n",
    "(x_train, t_train), (x_test, t_test) = load_mnist(normalize=True, one_hot_label=True)\n",
    "\n",
    "# Initialize the network\n",
    "network = TwoLayerNet(input_size=784, hidden_size=50, output_size=10)\n",
    "\n",
    "# Hyperparameters\n",
    "epochs = 10  # Set the number of epochs\n",
    "train_size = x_train.shape[0] - 59000  # Training set size (1000 samples)\n",
    "batch_size = 100  # batch size\n",
    "learning_rate = 0.1\n",
    "\n",
    "# Initialize lists to store training results\n",
    "train_loss_list = []\n",
    "train_acc_list = []\n",
    "test_acc_list = []\n",
    "\n",
    "iter_per_epoch = train_size // batch_size\n",
    "\n",
    "# Training loop\n",
    "# one epoch trains all training data\n",
    "for epoch in range(epochs):\n",
    "    # one iteration trains a batch data\n",
    "    for i in range(iter_per_epoch):\n",
    "        # Select a random mini-batch\n",
    "        batch_mask = np.random.choice(train_size, batch_size)\n",
    "        x_batch = x_train[batch_mask]\n",
    "        t_batch = t_train[batch_mask]\n",
    "        \n",
    "        # Calculate the gradient\n",
    "        #grad = network.compute_numerical_gradient(x_batch, t_batch) # slow\n",
    "        grad = network.backward_gradient(x_batch, t_batch) # fast\n",
    "        \n",
    "        # Update the parameters\n",
    "        for key in ('W1', 'b1', 'W2', 'b2'):\n",
    "            network.params[key] -= learning_rate * grad[key]\n",
    "        \n",
    "        # Calculate the loss for the current batch\n",
    "        loss = network.loss(x_batch, t_batch)\n",
    "        train_loss_list.append(loss)\n",
    "    \n",
    "    # At the end of each epoch, calculate and record the training and testing accuracy\n",
    "    train_acc = network.accuracy(x_train, t_train)\n",
    "    test_acc = network.accuracy(x_test, t_test)\n",
    "    train_acc_list.append(train_acc)\n",
    "    test_acc_list.append(test_acc)\n",
    "    print(f\"Epoch {epoch+1}/{epochs} - train acc: {train_acc:.4f}, test acc: {test_acc:.4f}\")\n",
    "\n",
    "# Visualize the results\n",
    "plt.plot(np.arange(epochs), train_acc_list, label='train acc', marker='o')\n",
    "plt.plot(np.arange(epochs), test_acc_list, label='test acc', linestyle='--', marker='s')\n",
    "plt.xlabel(\"epochs\")\n",
    "plt.ylabel(\"accuracy\")\n",
    "plt.ylim(0, 1.0)\n",
    "plt.legend(loc='lower right')\n",
    "plt.show()"
   ]
  },
  {
   "cell_type": "code",
   "execution_count": 102,
   "metadata": {},
   "outputs": [
    {
     "name": "stdout",
     "output_type": "stream",
     "text": [
      "W1:5.044353026635718e-10\n",
      "b1:2.9569192424975818e-09\n",
      "W2:5.641680577206034e-09\n",
      "b2:1.3991489048043038e-07\n"
     ]
    }
   ],
   "source": [
    "# gradient check\n",
    "# the meaning of numerical gradient is to check if the backward propagation is right, although it is very slow.\n",
    "import numpy as np\n",
    "from dataset.mnist import load_mnist\n",
    "\n",
    "(x_train, t_train), (x_test, t_test) = load_mnist(normalize=True, one_hot_label=True)\n",
    "\n",
    "network = TwoLayerNet(input_size=784, hidden_size=50, output_size=10)\n",
    "\n",
    "x_batch = x_train[:3]\n",
    "t_batch = t_train[:3]\n",
    "\n",
    "grad_numerical = network.compute_numerical_gradient(x_batch, t_batch) # slow\n",
    "grad_backprop = network.backward_gradient(x_batch, t_batch) # fast\n",
    "\n",
    "for key in grad_numerical.keys():\n",
    "    diff = np.average( np.abs(grad_backprop[key] - grad_numerical[key]) )\n",
    "    print(key + \":\" + str(diff))"
   ]
  },
  {
   "cell_type": "markdown",
   "metadata": {},
   "source": [
    "## Tricks for learning"
   ]
  },
  {
   "cell_type": "markdown",
   "metadata": {},
   "source": [
    "### Updating parameters (weights&bias)"
   ]
  },
  {
   "cell_type": "markdown",
   "metadata": {},
   "source": [
    "### Initializing weights"
   ]
  },
  {
   "cell_type": "markdown",
   "metadata": {},
   "source": [
    "### Batch normalization"
   ]
  },
  {
   "cell_type": "markdown",
   "metadata": {},
   "source": [
    "### Normalization"
   ]
  },
  {
   "cell_type": "markdown",
   "metadata": {},
   "source": [
    "### Hyper-parameters"
   ]
  },
  {
   "cell_type": "markdown",
   "metadata": {},
   "source": [
    "## CNN"
   ]
  },
  {
   "cell_type": "markdown",
   "metadata": {},
   "source": [
    "## Deep learning"
   ]
  },
  {
   "cell_type": "code",
   "execution_count": null,
   "metadata": {},
   "outputs": [],
   "source": []
  }
 ],
 "metadata": {
  "kernelspec": {
   "display_name": "Python 3.11.6 ('base')",
   "language": "python",
   "name": "python3"
  },
  "language_info": {
   "codemirror_mode": {
    "name": "ipython",
    "version": 3
   },
   "file_extension": ".py",
   "mimetype": "text/x-python",
   "name": "python",
   "nbconvert_exporter": "python",
   "pygments_lexer": "ipython3",
   "version": "3.11.6"
  },
  "vscode": {
   "interpreter": {
    "hash": "d0af3871f74fa798a0a222812f3db7ca3ddb43c51379edde28baf2323a73ac20"
   }
  }
 },
 "nbformat": 4,
 "nbformat_minor": 2
}
