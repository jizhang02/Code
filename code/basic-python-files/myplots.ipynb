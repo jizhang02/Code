{
 "cells": [
  {
   "cell_type": "markdown",
   "metadata": {},
   "source": [
    "# test"
   ]
  },
  {
   "cell_type": "code",
   "execution_count": 1,
   "metadata": {},
   "outputs": [
    {
     "name": "stdout",
     "output_type": "stream",
     "text": [
      "hello\n"
     ]
    }
   ],
   "source": [
    "print(f'hello hhhh')"
   ]
  },
  {
   "cell_type": "code",
   "execution_count": null,
   "metadata": {},
   "outputs": [],
   "source": [
    "'''\n",
    "Learning curve\n",
    "Date: 2023-01-27\n",
    "\n",
    "'''\n",
    "\n",
    "import matplotlib.pyplot as plt\n",
    "import json\n",
    "\n",
    "\n",
    "def plot_curve(filename, fig_loss, fig_mae):\n",
    "    #plot the training and validation MAE and loss at each epoch\n",
    "    with open(filename, \"r\") as file: history = json.load(file)\n",
    "    loss = history['loss']\n",
    "    val_loss = history['val_loss']\n",
    "    epochs = range(1, len(loss) + 1)\n",
    "    plt.plot(epochs, loss, 'y', label='Training loss')\n",
    "    plt.plot(epochs, val_loss, 'r', label='Validation loss')\n",
    "    plt.title('Training and validation loss')\n",
    "    plt.xlabel('Epochs')\n",
    "    plt.ylabel('Loss')\n",
    "    plt.legend()\n",
    "    plt.tight_layout()\n",
    "    plt.savefig(fig_loss, dpi=200, orientation='landscape', format='pdf')\n",
    "    plt.show()\n",
    "\n",
    "    mae = history['MAE']\n",
    "    val_mae = history['val_MAE']\n",
    "    plt.plot(epochs, mae, 'y', label='Training MAE')\n",
    "    plt.plot(epochs, val_mae, 'r', label='Validation MAE')\n",
    "    plt.title('Training and validation MAE')\n",
    "    plt.xlabel('Epochs')\n",
    "    plt.ylabel('MAE')\n",
    "    plt.legend()\n",
    "    plt.tight_layout()\n",
    "    plt.savefig(fig_mae, dpi=200, orientation='landscape', format='pdf')\n",
    "    plt.show()\n",
    "\n",
    "file = '/home/jing/python_code/DeepRT/tf/train_history/history.txt'\n",
    "fig_loss = '/home/jing/python_code/DeepRT/tf/fig/loss.pdf'\n",
    "fig_mae = '/home/jing/python_code/DeepRT/tf/fig/mae.pdf'\n",
    "\n",
    "plot_curve(file,fig_loss,fig_mae)"
   ]
  }
 ],
 "metadata": {
  "kernelspec": {
   "display_name": "Python 3.8.3 ('base')",
   "language": "python",
   "name": "python3"
  },
  "language_info": {
   "codemirror_mode": {
    "name": "ipython",
    "version": 3
   },
   "file_extension": ".py",
   "mimetype": "text/x-python",
   "name": "python",
   "nbconvert_exporter": "python",
   "pygments_lexer": "ipython3",
   "version": "3.8.3"
  },
  "orig_nbformat": 4,
  "vscode": {
   "interpreter": {
    "hash": "309ce2173a032f2eb3b79142862b6a0aa1a6c94ccc65183ee382f63358216c0e"
   }
  }
 },
 "nbformat": 4,
 "nbformat_minor": 2
}
